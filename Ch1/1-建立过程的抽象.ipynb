{
 "cells": [
  {
   "cell_type": "markdown",
   "metadata": {},
   "source": [
    "## 建立过程的抽象\n",
    "\n",
    "首先需要区分的几个核心概念：\n",
    "\n",
    "1. `Computational process` - 计算过程\n",
    "2. `Procedure/Data` - 过程/数据\n",
    "3. `Program` - 程序\n",
    "\n",
    "**计算过程（Computational process）**就像魔法师的魔法力量，它是真实存在的，却又是看不见、摸不着的抽象的东西；或者是魔法师念动咒语之后咒语的**执行过程**与**执行结果**。\n",
    "\n",
    "**过程（Procedure）**和**数据（Data）**是计算过程的操作对象，如果说魔法是作用于现实世界，那么计算过程就是作用于数据和过程（如果只说数据可能更好理解，而实际上后面我们可以看到，过程和数据并没有本质的差别，这里区分开来，主要是前两章分关于建立过程的抽象和建立数据的抽象）。\n",
    "\n",
    "**程序（Program）**更好理解一些，它们就是实实在在的由源代码所构成的**指令**。"
   ]
  }
 ],
 "metadata": {
  "kernelspec": {
   "display_name": "Calysto Scheme 3",
   "language": "scheme",
   "name": "calysto_scheme"
  },
  "language_info": {
   "codemirror_mode": {
    "name": "scheme"
   },
   "mimetype": "text/x-scheme",
   "name": "scheme",
   "pygments_lexer": "scheme"
  }
 },
 "nbformat": 4,
 "nbformat_minor": 0
}
