{
 "cells": [
  {
   "cell_type": "markdown",
   "metadata": {},
   "source": [
    "## 1.1 编程的基本元素\n",
    "\n",
    "我们在看待一门编程语言时，不应该仅仅把它的当作是**让计算机完成某些任务的指令**，而是应该考虑如何用这门语言来组织、表达我们关于**计算过程**的想法，应该关注这门语言是如何将简单的想法**组合成**复杂的想法的。编程语言一般都是通过下面三种机制来完成这一目标：\n",
    "\n",
    "1. 基本表达式（primitive expressions)\n",
    "2. 组合方法（means of combination）\n",
    "3. 抽象方法（means of abstraction）\n",
    "\n",
    "**基本表达式**用于表示语言所关注的最简单、最基础的实体；通过**组合方法**将简单的元素组合称复合元素（compound elements）；复合元素可以通过**抽象方法**被抽象成带有名字的实体，从而可以像简单的基本元素一样直接被操作。\n",
    "\n",
    "上面提到的基本元素、简单元素和复合元素，总的来说在编程中它们可以被分成两类：**过程（procedure）**和**数据（data）**，数据是我们希望操作的内容，而过程则是对数据处理规则的描述。（前面已经说过，我们将会看到它们两者之间并没有本质差别）\n",
    "\n",
    "#### 1.1.1 表达式\n",
    "\n",
    "当在Scheme解释器中输入数字**表达式(expression)**时，它会返回对该表达式**求值（evaluating）**的结果。数字表达式通常会与代表基本过程的表达式一起出现，完成对数字的数学运算："
   ]
  },
  {
   "cell_type": "code",
   "execution_count": 1,
   "metadata": {
    "collapsed": false
   },
   "outputs": [
    {
     "data": {
      "text/plain": [
       "486"
      ]
     },
     "execution_count": 1,
     "metadata": {},
     "output_type": "execute_result"
    }
   ],
   "source": [
    "(+ 137 349)"
   ]
  },
  {
   "cell_type": "code",
   "execution_count": 2,
   "metadata": {
    "collapsed": false
   },
   "outputs": [
    {
     "data": {
      "text/plain": [
       "495"
      ]
     },
     "execution_count": 2,
     "metadata": {},
     "output_type": "execute_result"
    }
   ],
   "source": [
    "(* 5 99)"
   ]
  },
  {
   "cell_type": "code",
   "execution_count": 3,
   "metadata": {
    "collapsed": false
   },
   "outputs": [
    {
     "data": {
      "text/plain": [
       "2"
      ]
     },
     "execution_count": 3,
     "metadata": {},
     "output_type": "execute_result"
    }
   ],
   "source": [
    "(/ 10 5)"
   ]
  },
  {
   "cell_type": "markdown",
   "metadata": {},
   "source": [
    "如上所示，用`()`区分出来的一组表达式的列表，称为**组合式（combinations）**，其中最左边的元素称为**运算符（operator）**，其余元素称为**运算对象（operands）**。组合式的值是通过将所有运算对象作为参数（**数据**）应用到运算符所指定的**过程**中所求得的。\n",
    "\n",
    "这种将运算符放在最前面的表示方法称为**前缀表示法（prefix notation）**，相对于常见的中缀表示法（运算符放在中间），它有以下优点：\n",
    "\n",
    "**1. 一个运算符可以接受任意多个运算对象作为参数：**"
   ]
  },
  {
   "cell_type": "code",
   "execution_count": 4,
   "metadata": {
    "collapsed": false
   },
   "outputs": [
    {
     "data": {
      "text/plain": [
       "75"
      ]
     },
     "execution_count": 4,
     "metadata": {},
     "output_type": "execute_result"
    }
   ],
   "source": [
    "(+ 21 35 12 7)"
   ]
  },
  {
   "cell_type": "markdown",
   "metadata": {},
   "source": [
    "**2. 能够更直观地表示含有嵌套的组合式，因为组合式本身变成了运算对象（对应上面提到的第二种机制：组合方法）：**"
   ]
  },
  {
   "cell_type": "code",
   "execution_count": 5,
   "metadata": {
    "collapsed": false
   },
   "outputs": [
    {
     "data": {
      "text/plain": [
       "19"
      ]
     },
     "execution_count": 5,
     "metadata": {},
     "output_type": "execute_result"
    }
   ],
   "source": [
    "(+ (* 3 5) (- 10 6))"
   ]
  },
  {
   "cell_type": "code",
   "execution_count": 6,
   "metadata": {
    "collapsed": false
   },
   "outputs": [
    {
     "data": {
      "text/plain": [
       "57"
      ]
     },
     "execution_count": 6,
     "metadata": {},
     "output_type": "execute_result"
    }
   ],
   "source": [
    "(+ (* 3\n",
    "      (+ (* 2 4)\n",
    "         (+ 3 5)))\n",
    "   (+ (- 10 7)\n",
    "      6))"
   ]
  },
  {
   "cell_type": "markdown",
   "metadata": {},
   "source": [
    "#### 1.1.2 命名和环境\n",
    "\n",
    "编程语言提供可以对计算对象进行命名的方法，得到**值**为该计算对象的**变量**。因此变量就是被命名过的值（这里的值可以是任何（基本/组合）表达式的求值）。Scheme中用`define`对元素进行命名："
   ]
  },
  {
   "cell_type": "code",
   "execution_count": 7,
   "metadata": {
    "collapsed": false
   },
   "outputs": [
    {
     "data": {
      "text/plain": [
       "2"
      ]
     },
     "execution_count": 7,
     "metadata": {},
     "output_type": "execute_result"
    }
   ],
   "source": [
    "(define size 2)\n",
    "size"
   ]
  },
  {
   "cell_type": "code",
   "execution_count": 8,
   "metadata": {
    "collapsed": false
   },
   "outputs": [
    {
     "data": {
      "text/plain": [
       "10"
      ]
     },
     "execution_count": 8,
     "metadata": {},
     "output_type": "execute_result"
    }
   ],
   "source": [
    "(* 5 size)"
   ]
  },
  {
   "cell_type": "markdown",
   "metadata": {},
   "source": [
    "`define`是Scheme中最简单的抽象方法（第三种机制），因为它可以让我们用简单的名字来指代由许多元素组成的复合元素。复合元素（或组合式）所构成的计算对象可能有具有非常复杂的内部结构，抽象方法使重复利用变得简洁、方便："
   ]
  },
  {
   "cell_type": "code",
   "execution_count": 9,
   "metadata": {
    "collapsed": false
   },
   "outputs": [
    {
     "data": {
      "text/plain": [
       "62.831852"
      ]
     },
     "execution_count": 9,
     "metadata": {},
     "output_type": "execute_result"
    }
   ],
   "source": [
    "(define pi 3.1415926)\n",
    "(define radius 10)\n",
    "(define circumference (* 2 pi radius))\n",
    "circumference"
   ]
  },
  {
   "cell_type": "markdown",
   "metadata": {},
   "source": [
    "抽象方法将值绑定到名称上供后续使用，意味着解释器需要将这些**名称-值**的关联保存在记忆中，这些记忆称为**环境（environment）**（更确切地说，这里是**全局环境（global environment）**）。"
   ]
  },
  {
   "cell_type": "markdown",
   "metadata": {},
   "source": [
    "#### 1.1.3 组合式求值"
   ]
  },
  {
   "cell_type": "code",
   "execution_count": null,
   "metadata": {
    "collapsed": true
   },
   "outputs": [],
   "source": []
  }
 ],
 "metadata": {
  "kernelspec": {
   "display_name": "Calysto Scheme 3",
   "language": "scheme",
   "name": "calysto_scheme"
  },
  "language_info": {
   "codemirror_mode": {
    "name": "scheme"
   },
   "mimetype": "text/x-scheme",
   "name": "scheme",
   "pygments_lexer": "scheme"
  }
 },
 "nbformat": 4,
 "nbformat_minor": 0
}
