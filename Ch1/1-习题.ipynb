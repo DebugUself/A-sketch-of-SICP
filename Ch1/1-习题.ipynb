{
 "cells": [
  {
   "cell_type": "markdown",
   "metadata": {},
   "source": [
    "### 习题1.1\n",
    "\n",
    "下列代码执行结果"
   ]
  },
  {
   "cell_type": "code",
   "execution_count": 2,
   "metadata": {
    "collapsed": false
   },
   "outputs": [
    {
     "data": {
      "text/plain": [
       "10"
      ]
     },
     "execution_count": 2,
     "metadata": {},
     "output_type": "execute_result"
    }
   ],
   "source": [
    "10"
   ]
  },
  {
   "cell_type": "code",
   "execution_count": 3,
   "metadata": {
    "collapsed": false
   },
   "outputs": [
    {
     "data": {
      "text/plain": [
       "12"
      ]
     },
     "execution_count": 3,
     "metadata": {},
     "output_type": "execute_result"
    }
   ],
   "source": [
    "(+ 5 3 4)"
   ]
  },
  {
   "cell_type": "code",
   "execution_count": 4,
   "metadata": {
    "collapsed": false
   },
   "outputs": [
    {
     "data": {
      "text/plain": [
       "8"
      ]
     },
     "execution_count": 4,
     "metadata": {},
     "output_type": "execute_result"
    }
   ],
   "source": [
    "(- 9 1)"
   ]
  },
  {
   "cell_type": "code",
   "execution_count": 5,
   "metadata": {
    "collapsed": false
   },
   "outputs": [
    {
     "data": {
      "text/plain": [
       "3"
      ]
     },
     "execution_count": 5,
     "metadata": {},
     "output_type": "execute_result"
    }
   ],
   "source": [
    "(/ 6 2)"
   ]
  },
  {
   "cell_type": "code",
   "execution_count": 6,
   "metadata": {
    "collapsed": false
   },
   "outputs": [
    {
     "data": {
      "text/plain": [
       "6"
      ]
     },
     "execution_count": 6,
     "metadata": {},
     "output_type": "execute_result"
    }
   ],
   "source": [
    "(+ (* 2 4) (- 4 6))"
   ]
  },
  {
   "cell_type": "code",
   "execution_count": 9,
   "metadata": {
    "collapsed": false
   },
   "outputs": [
    {
     "data": {
      "text/plain": [
       "19"
      ]
     },
     "execution_count": 9,
     "metadata": {},
     "output_type": "execute_result"
    }
   ],
   "source": [
    "(define a 3)\n",
    "(define b (+ a 1))\n",
    "(+ a b (* a b))"
   ]
  },
  {
   "cell_type": "code",
   "execution_count": 10,
   "metadata": {
    "collapsed": false
   },
   "outputs": [
    {
     "data": {
      "text/plain": [
       "#f"
      ]
     },
     "execution_count": 10,
     "metadata": {},
     "output_type": "execute_result"
    }
   ],
   "source": [
    "(= a b)"
   ]
  },
  {
   "cell_type": "code",
   "execution_count": 11,
   "metadata": {
    "collapsed": false
   },
   "outputs": [
    {
     "data": {
      "text/plain": [
       "4"
      ]
     },
     "execution_count": 11,
     "metadata": {},
     "output_type": "execute_result"
    }
   ],
   "source": [
    "(if (and (> b a) (< b (* a b)))\n",
    "    b\n",
    "    a)"
   ]
  },
  {
   "cell_type": "code",
   "execution_count": 12,
   "metadata": {
    "collapsed": false
   },
   "outputs": [
    {
     "data": {
      "text/plain": [
       "16"
      ]
     },
     "execution_count": 12,
     "metadata": {},
     "output_type": "execute_result"
    }
   ],
   "source": [
    "(cond ((= a 4) 6)\n",
    "      ((= b 4) (+ 6 7 a))\n",
    "      (else 25))"
   ]
  },
  {
   "cell_type": "code",
   "execution_count": 13,
   "metadata": {
    "collapsed": false
   },
   "outputs": [
    {
     "data": {
      "text/plain": [
       "6"
      ]
     },
     "execution_count": 13,
     "metadata": {},
     "output_type": "execute_result"
    }
   ],
   "source": [
    "(+ 2 (if (> b a) b a))"
   ]
  },
  {
   "cell_type": "code",
   "execution_count": 14,
   "metadata": {
    "collapsed": false
   },
   "outputs": [
    {
     "data": {
      "text/plain": [
       "16"
      ]
     },
     "execution_count": 14,
     "metadata": {},
     "output_type": "execute_result"
    }
   ],
   "source": [
    "(* (cond ((> a b) a)\n",
    "         ((< a b) b)\n",
    "         (else -1))\n",
    "   (+ a 1))"
   ]
  },
  {
   "cell_type": "markdown",
   "metadata": {},
   "source": [
    "### 习题1.2\n",
    "\n",
    "将下列公式转化为前缀表示法：\n",
    "\n",
    "$$\\frac{5 + 4 + (2 - (3 - (6 + \\frac{4}{5})))}{3(6-2)(2-7)}$$"
   ]
  },
  {
   "cell_type": "code",
   "execution_count": 17,
   "metadata": {
    "collapsed": false
   },
   "outputs": [
    {
     "data": {
      "text/plain": [
       "-37/150"
      ]
     },
     "execution_count": 17,
     "metadata": {},
     "output_type": "execute_result"
    }
   ],
   "source": [
    "(/ (+ 5 4 \n",
    "      (- 2 (- 3 (+ 6 \n",
    "                   (/ 4 5)))))\n",
    "   (* 3 (- 6 2) (- 2 7)))"
   ]
  },
  {
   "cell_type": "markdown",
   "metadata": {},
   "source": [
    "### 习题1.3\n",
    "\n",
    "定义一个过程，接受3个数字作为参数，并返回较大两个数字之和。"
   ]
  },
  {
   "cell_type": "code",
   "execution_count": 25,
   "metadata": {
    "collapsed": false
   },
   "outputs": [
    {
     "data": {
      "text/plain": [
       "4"
      ]
     },
     "execution_count": 25,
     "metadata": {},
     "output_type": "execute_result"
    }
   ],
   "source": [
    "(define (sum-of-larger-two a b c)\n",
    "  (cond ((and (<= a b) (<= a c)) (+ b c))\n",
    "        ((and (<= b a) (<= b c)) (+ a c))\n",
    "        (else (+ a b))))\n",
    "(sum-of-larger-two 1 2 2)"
   ]
  },
  {
   "cell_type": "markdown",
   "metadata": {},
   "source": [
    "### 习题1.4\n",
    "\n",
    "运算符也可以是组合表达式，据此解释下面的代码：\n",
    "\n",
    "```scm\n",
    "(define (a-plus-abs-b a b)\n",
    "  ((if (> b 0) + -) a b))\n",
    "```\n",
    "\n",
    "**解释：**当`b`为正数时，`if`语句返回`+`；当`b`为非正数时，`if`返回`-`作为运算符，因此`a-plus-abs-b`计算`b`的绝对值与`a`之和。"
   ]
  },
  {
   "cell_type": "code",
   "execution_count": 26,
   "metadata": {
    "collapsed": false
   },
   "outputs": [
    {
     "data": {
      "text/plain": [
       "2"
      ]
     },
     "execution_count": 26,
     "metadata": {},
     "output_type": "execute_result"
    }
   ],
   "source": [
    "(define (a-plus-abs-b a b)\n",
    "  ((if (> b 0) + -) a b))\n",
    "(a-plus-abs-b 1 -1)"
   ]
  },
  {
   "cell_type": "markdown",
   "metadata": {},
   "source": [
    "### 习题1.5\n",
    "\n",
    "为检验解释器采用应用序还是正则序，定义如下两个过程（假设应用序和正则序中if表达式的求值方式相同）：\n",
    "\n",
    "```scm\n",
    "(define (p) (p))\n",
    "(define (test x y)\n",
    "  (if (= x 0)\n",
    "      0\n",
    "      y))\n",
    "(test 0 (p))\n",
    "```\n",
    "\n",
    "**解释：**若解释器采用应用序，当对`(test 0 (p))`求值时，需要先对参数`(p)`求值，则会陷入死循环；反之若是正则序，则会返回0。\n",
    "\n",
    "### 习题1.6\n",
    "\n",
    "是否可以通过如下定义来取代特殊形式`if`："
   ]
  },
  {
   "cell_type": "code",
   "execution_count": 1,
   "metadata": {
    "collapsed": true
   },
   "outputs": [],
   "source": [
    "(define (new-if predicate\n",
    "                then-clause\n",
    "                else-clause)\n",
    "  (cond (predicate then-clause)\n",
    "        (else else-clause)))"
   ]
  },
  {
   "cell_type": "code",
   "execution_count": 2,
   "metadata": {
    "collapsed": false
   },
   "outputs": [
    {
     "data": {
      "text/plain": [
       "5"
      ]
     },
     "execution_count": 2,
     "metadata": {},
     "output_type": "execute_result"
    }
   ],
   "source": [
    "(new-if (= 2 3) 0 5)"
   ]
  },
  {
   "cell_type": "code",
   "execution_count": 3,
   "metadata": {
    "collapsed": false
   },
   "outputs": [
    {
     "data": {
      "text/plain": [
       "0"
      ]
     },
     "execution_count": 3,
     "metadata": {},
     "output_type": "execute_result"
    }
   ],
   "source": [
    "(new-if (= 1 1) 0 5)"
   ]
  },
  {
   "cell_type": "markdown",
   "metadata": {},
   "source": [
    "特殊形式`if`中，如果第一个从句`predicate`判断为真时，`else`从句将不会被执行。而`new-if`是通过`define`定义的过程，若解释器采用应用序，参数将先被执行："
   ]
  },
  {
   "cell_type": "code",
   "execution_count": 5,
   "metadata": {
    "collapsed": false
   },
   "outputs": [
    {
     "name": "stdout",
     "output_type": "stream",
     "text": [
      "helloworld"
     ]
    }
   ],
   "source": [
    "(new-if (= 1 1) (display \"hello\") (display \"world\"))"
   ]
  },
  {
   "cell_type": "code",
   "execution_count": 6,
   "metadata": {
    "collapsed": false
   },
   "outputs": [
    {
     "name": "stdout",
     "output_type": "stream",
     "text": [
      "hello"
     ]
    }
   ],
   "source": [
    "(if (= 1 1) (display \"hello\") (display \"world\"))"
   ]
  },
  {
   "cell_type": "markdown",
   "metadata": {},
   "source": [
    "因此当`new-if`用在求平方根的过程中时，`sqrt-iter`将被递归执行，导致死循环。"
   ]
  },
  {
   "cell_type": "markdown",
   "metadata": {},
   "source": [
    "### 习题1.7\n",
    "\n",
    "改进`sqrt-iter`中的`good-enough?`过程，以两次猜测的差值小于预设值为判断标准："
   ]
  },
  {
   "cell_type": "code",
   "execution_count": 18,
   "metadata": {
    "collapsed": false
   },
   "outputs": [
    {
     "data": {
      "text/plain": [
       "0.03230844833048122"
      ]
     },
     "execution_count": 18,
     "metadata": {},
     "output_type": "execute_result"
    }
   ],
   "source": [
    "(define (square x)\n",
    "  (* x x))\n",
    "(define (sqrt-iter guess x)\n",
    "  (if (good-enough? guess x)\n",
    "      guess\n",
    "      (sqrt-iter (improve guess x) x)))\n",
    "(define (improve guess x)\n",
    "  (avg guess (/ x guess)))\n",
    "(define (avg x y)\n",
    "  (/ (+ x y) 2))\n",
    "(define (good-enough? guess x)\n",
    "  (< (abs (- x (square guess))) 0.001))\n",
    "\n",
    "(define (sqrt x)\n",
    "  (sqrt-iter 1.0 x))\n",
    "(sqrt 0.0001)"
   ]
  },
  {
   "cell_type": "code",
   "execution_count": 27,
   "metadata": {
    "collapsed": false
   },
   "outputs": [
    {
     "data": {
      "text/plain": [
       "1e+43"
      ]
     },
     "execution_count": 27,
     "metadata": {},
     "output_type": "execute_result"
    }
   ],
   "source": [
    "(sqrt 100000000000000000000000000000000000000000000000000000000000000000000000000000000000000)"
   ]
  },
  {
   "cell_type": "code",
   "execution_count": 26,
   "metadata": {
    "collapsed": false
   },
   "outputs": [
    {
     "data": {
      "text/plain": [
       "0.010120218365353947"
      ]
     },
     "execution_count": 26,
     "metadata": {},
     "output_type": "execute_result"
    }
   ],
   "source": [
    "(define (sqrt-iter guess x)\n",
    "  (if (good-enough? guess x)\n",
    "      guess\n",
    "      (sqrt-iter (improve guess x) x)))\n",
    "; avg\n",
    "(define (avg x y)\n",
    "  (/ (+ x y) 2))\n",
    "; square\n",
    "(define (square x)\n",
    "  (* x x))\n",
    "; improve\n",
    "(define (improve guess x)\n",
    "  (avg guess (/ x guess)))\n",
    "; guess\n",
    "(define (good-enough? guess x)\n",
    "  (< (abs (- guess (improve guess x))) 0.001))\n",
    "(define (sqrt x)\n",
    "  (sqrt-iter 1.0 x))\n",
    "(sqrt 0.0001)"
   ]
  },
  {
   "cell_type": "code",
   "execution_count": 25,
   "metadata": {
    "collapsed": false
   },
   "outputs": [
    {
     "data": {
      "text/plain": [
       "1e+43"
      ]
     },
     "execution_count": 25,
     "metadata": {},
     "output_type": "execute_result"
    }
   ],
   "source": [
    "(sqrt 100000000000000000000000000000000000000000000000000000000000000000000000000000000000000)"
   ]
  },
  {
   "cell_type": "markdown",
   "metadata": {},
   "source": [
    "### 习题1.8\n",
    "\n",
    "根据下面的公式，利用牛顿法求立方根：\n",
    "\n",
    "$$\\frac{x/y^2 + 2y}{3}$$"
   ]
  },
  {
   "cell_type": "code",
   "execution_count": 1,
   "metadata": {
    "collapsed": false
   },
   "outputs": [
    {
     "data": {
      "text/plain": [
       "3.0000005410641766"
      ]
     },
     "execution_count": 1,
     "metadata": {},
     "output_type": "execute_result"
    }
   ],
   "source": [
    "(define (cube-iter guess x)\n",
    "  (if (good-enough? guess x)\n",
    "      guess\n",
    "      (cube-iter (improve guess x) x)))\n",
    "\n",
    "; good-enough?\n",
    "(define (good-enough? guess x)\n",
    "  (< (abs (- guess (improve guess x))) 0.0001))\n",
    "; improve\n",
    "(define (improve guess x)\n",
    "  (/ (+ (/ x\n",
    "           (* guess guess))\n",
    "        (* 2 guess))\n",
    "     3))\n",
    "; \n",
    "(define (cube-root x)\n",
    "  (cube-iter 1.0 x))\n",
    "\n",
    "(cube-root 27)"
   ]
  },
  {
   "cell_type": "markdown",
   "metadata": {
    "collapsed": true
   },
   "source": [
    "### 习题1.9\n",
    "\n",
    "下面两种`+`运算的定义，利用替换模型说明在计算`(+ 4 5)`时的计算过程，并说明是递归还是迭代？"
   ]
  },
  {
   "cell_type": "code",
   "execution_count": 3,
   "metadata": {
    "collapsed": true
   },
   "outputs": [],
   "source": [
    "(define (+ a b)\n",
    "  (if (= a 0)\n",
    "      b\n",
    "      (inc (+ (dec a) b))))\n",
    "; (+ 4 5)\n",
    "; (inc (+ (dec 4) 5))\n",
    "; (inc (inc (+ (dec 3) 5)))\n",
    "; (inc (inc (inc (+ (dec 2) 5))))\n",
    "; (inc (inc (inc (inc (+ (dec 1) 5)))))\n",
    "; (inc (inc (inc (inc (+ 0 5)))))\n",
    "; (inc (inc (inc (inc 5))))\n",
    "; (inc (inc (inc 6)))\n",
    "; (inc (inc 7))\n",
    "; (inc 8)\n",
    "; 9\n",
    "; 递归计算过程"
   ]
  },
  {
   "cell_type": "code",
   "execution_count": 5,
   "metadata": {
    "collapsed": true
   },
   "outputs": [],
   "source": [
    "(define (+ a b)\n",
    "  (if (= a 0)\n",
    "      b\n",
    "      (+ (dec a) (inc b))))\n",
    "; (+ 4 5)\n",
    "; (+ (dec 4) (inc 5))\n",
    "; (+ 3 6)\n",
    "; (+ (dec 3) (inc 6))\n",
    "; (+ 2 7)\n",
    "; (+ (dec 2) (inc 7))\n",
    "; (+ 1 8)\n",
    "; (+ (dec 1) (inc 8))\n",
    "; (+ 0 9)\n",
    "; 9\n",
    "; 迭代计算过程"
   ]
  },
  {
   "cell_type": "markdown",
   "metadata": {},
   "source": [
    "###习题1.10\n",
    "\n",
    "Ackermann 函数："
   ]
  },
  {
   "cell_type": "code",
   "execution_count": 6,
   "metadata": {
    "collapsed": true
   },
   "outputs": [],
   "source": [
    "(define (A x y)\n",
    "  (cond ((= y 0) 0)\n",
    "        ((= x 0) (* 2 y))\n",
    "        ((= y 1) 2)\n",
    "        (else (A (- x 1)\n",
    "                 (A x (- y 1))))))"
   ]
  },
  {
   "cell_type": "code",
   "execution_count": 7,
   "metadata": {
    "collapsed": false
   },
   "outputs": [
    {
     "data": {
      "text/plain": [
       "1024"
      ]
     },
     "execution_count": 7,
     "metadata": {},
     "output_type": "execute_result"
    }
   ],
   "source": [
    "(A 1 10)"
   ]
  },
  {
   "cell_type": "code",
   "execution_count": 8,
   "metadata": {
    "collapsed": false
   },
   "outputs": [
    {
     "data": {
      "text/plain": [
       "65536"
      ]
     },
     "execution_count": 8,
     "metadata": {},
     "output_type": "execute_result"
    }
   ],
   "source": [
    "(A 2 4)"
   ]
  },
  {
   "cell_type": "code",
   "execution_count": 9,
   "metadata": {
    "collapsed": false
   },
   "outputs": [
    {
     "data": {
      "text/plain": [
       "65536"
      ]
     },
     "execution_count": 9,
     "metadata": {},
     "output_type": "execute_result"
    }
   ],
   "source": [
    "(A 3 3)"
   ]
  },
  {
   "cell_type": "markdown",
   "metadata": {},
   "source": [
    "对于下面定义的过程`f`，`g`，`h`，分别给出其计算的数学函数："
   ]
  },
  {
   "cell_type": "code",
   "execution_count": 18,
   "metadata": {
    "collapsed": false
   },
   "outputs": [],
   "source": [
    "(define (f n) (A 0 n))"
   ]
  },
  {
   "cell_type": "markdown",
   "metadata": {},
   "source": [
    "$$(f\\ n) = 2n$$"
   ]
  },
  {
   "cell_type": "code",
   "execution_count": 13,
   "metadata": {
    "collapsed": true
   },
   "outputs": [],
   "source": [
    "(define (g n) (A 1 n))"
   ]
  },
  {
   "cell_type": "markdown",
   "metadata": {},
   "source": [
    "$$(g\\ n) = 2^n$$"
   ]
  },
  {
   "cell_type": "code",
   "execution_count": 14,
   "metadata": {
    "collapsed": true
   },
   "outputs": [],
   "source": [
    "(define (h n) (A 2 n))"
   ]
  },
  {
   "cell_type": "markdown",
   "metadata": {},
   "source": [
    "$$(h\\ n) = 2^{2^{2^{\\ \\dots -> n}}}$$"
   ]
  },
  {
   "cell_type": "markdown",
   "metadata": {
    "collapsed": true
   },
   "source": [
    "###习题1.11\n",
    "\n",
    "分别用递归和迭代过程计算$f(n)$：\n",
    "\n",
    "$$f(n) = \\begin{cases}n & n<3\\\\f(n-1)+2f(n-2)+3f(n-3) & n \\geq 3\\end{cases}$$"
   ]
  },
  {
   "cell_type": "code",
   "execution_count": 4,
   "metadata": {
    "collapsed": false
   },
   "outputs": [],
   "source": [
    "; 递归\n",
    "(define (f n)\n",
    "  (if (< n 3)\n",
    "      n\n",
    "      (+ (f (- n 1)) \n",
    "         (* 2 (f (- n 2)))\n",
    "         (* 3 (f (- n 3))))))\n",
    "\n",
    "; 迭代\n",
    "(define (iter-f f-3 f-2 f-1 n)\n",
    "  (if (< n 3)\n",
    "      f-1\n",
    "      (iter-f f-2 f-1 (+ f-1 (* 2 f-2) (* 3 f-3)) (- n 1))))\n",
    "(define (f2 n)\n",
    "  (if (< n 3)\n",
    "      n\n",
    "      (iter-f 0 1 2 n)))"
   ]
  },
  {
   "cell_type": "markdown",
   "metadata": {},
   "source": [
    "###习题1.12\n",
    "\n",
    "用递归过程求杨辉三角中的元素：\n",
    "\n",
    "          1\n",
    "         1 1\n",
    "        1 2 1\n",
    "       1 3 3 1\n",
    "      1 4 6 4 1\n",
    "      ..."
   ]
  },
  {
   "cell_type": "code",
   "execution_count": 16,
   "metadata": {
    "collapsed": false
   },
   "outputs": [
    {
     "data": {
      "text/plain": [
       "6"
      ]
     },
     "execution_count": 16,
     "metadata": {},
     "output_type": "execute_result"
    }
   ],
   "source": [
    "(define (pascal row col)\n",
    "  (if (or (= row 1) (= col 1) (= row col))\n",
    "      1\n",
    "      (+ (pascal (- row 1) (- col 1)) (pascal (- row 1) col))))\n",
    "(pascal 5 3)"
   ]
  },
  {
   "cell_type": "code",
   "execution_count": null,
   "metadata": {
    "collapsed": true
   },
   "outputs": [],
   "source": []
  }
 ],
 "metadata": {
  "kernelspec": {
   "display_name": "Calysto Scheme 3",
   "language": "scheme",
   "name": "calysto_scheme"
  },
  "language_info": {
   "codemirror_mode": {
    "name": "scheme"
   },
   "mimetype": "text/x-scheme",
   "name": "scheme",
   "pygments_lexer": "scheme"
  }
 },
 "nbformat": 4,
 "nbformat_minor": 0
}
