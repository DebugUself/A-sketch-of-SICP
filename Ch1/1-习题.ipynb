{
 "cells": [
  {
   "cell_type": "markdown",
   "metadata": {},
   "source": [
    "### 习题1.1\n",
    "\n",
    "下列代码执行结果"
   ]
  },
  {
   "cell_type": "code",
   "execution_count": 2,
   "metadata": {
    "collapsed": false
   },
   "outputs": [
    {
     "data": {
      "text/plain": [
       "10"
      ]
     },
     "execution_count": 2,
     "metadata": {},
     "output_type": "execute_result"
    }
   ],
   "source": [
    "10"
   ]
  },
  {
   "cell_type": "code",
   "execution_count": 3,
   "metadata": {
    "collapsed": false
   },
   "outputs": [
    {
     "data": {
      "text/plain": [
       "12"
      ]
     },
     "execution_count": 3,
     "metadata": {},
     "output_type": "execute_result"
    }
   ],
   "source": [
    "(+ 5 3 4)"
   ]
  },
  {
   "cell_type": "code",
   "execution_count": 4,
   "metadata": {
    "collapsed": false
   },
   "outputs": [
    {
     "data": {
      "text/plain": [
       "8"
      ]
     },
     "execution_count": 4,
     "metadata": {},
     "output_type": "execute_result"
    }
   ],
   "source": [
    "(- 9 1)"
   ]
  },
  {
   "cell_type": "code",
   "execution_count": 5,
   "metadata": {
    "collapsed": false
   },
   "outputs": [
    {
     "data": {
      "text/plain": [
       "3"
      ]
     },
     "execution_count": 5,
     "metadata": {},
     "output_type": "execute_result"
    }
   ],
   "source": [
    "(/ 6 2)"
   ]
  },
  {
   "cell_type": "code",
   "execution_count": 6,
   "metadata": {
    "collapsed": false
   },
   "outputs": [
    {
     "data": {
      "text/plain": [
       "6"
      ]
     },
     "execution_count": 6,
     "metadata": {},
     "output_type": "execute_result"
    }
   ],
   "source": [
    "(+ (* 2 4) (- 4 6))"
   ]
  },
  {
   "cell_type": "code",
   "execution_count": 9,
   "metadata": {
    "collapsed": false
   },
   "outputs": [
    {
     "data": {
      "text/plain": [
       "19"
      ]
     },
     "execution_count": 9,
     "metadata": {},
     "output_type": "execute_result"
    }
   ],
   "source": [
    "(define a 3)\n",
    "(define b (+ a 1))\n",
    "(+ a b (* a b))"
   ]
  },
  {
   "cell_type": "code",
   "execution_count": 10,
   "metadata": {
    "collapsed": false
   },
   "outputs": [
    {
     "data": {
      "text/plain": [
       "#f"
      ]
     },
     "execution_count": 10,
     "metadata": {},
     "output_type": "execute_result"
    }
   ],
   "source": [
    "(= a b)"
   ]
  },
  {
   "cell_type": "code",
   "execution_count": 11,
   "metadata": {
    "collapsed": false
   },
   "outputs": [
    {
     "data": {
      "text/plain": [
       "4"
      ]
     },
     "execution_count": 11,
     "metadata": {},
     "output_type": "execute_result"
    }
   ],
   "source": [
    "(if (and (> b a) (< b (* a b)))\n",
    "    b\n",
    "    a)"
   ]
  },
  {
   "cell_type": "code",
   "execution_count": 12,
   "metadata": {
    "collapsed": false
   },
   "outputs": [
    {
     "data": {
      "text/plain": [
       "16"
      ]
     },
     "execution_count": 12,
     "metadata": {},
     "output_type": "execute_result"
    }
   ],
   "source": [
    "(cond ((= a 4) 6)\n",
    "      ((= b 4) (+ 6 7 a))\n",
    "      (else 25))"
   ]
  },
  {
   "cell_type": "code",
   "execution_count": 13,
   "metadata": {
    "collapsed": false
   },
   "outputs": [
    {
     "data": {
      "text/plain": [
       "6"
      ]
     },
     "execution_count": 13,
     "metadata": {},
     "output_type": "execute_result"
    }
   ],
   "source": [
    "(+ 2 (if (> b a) b a))"
   ]
  },
  {
   "cell_type": "code",
   "execution_count": 14,
   "metadata": {
    "collapsed": false
   },
   "outputs": [
    {
     "data": {
      "text/plain": [
       "16"
      ]
     },
     "execution_count": 14,
     "metadata": {},
     "output_type": "execute_result"
    }
   ],
   "source": [
    "(* (cond ((> a b) a)\n",
    "         ((< a b) b)\n",
    "         (else -1))\n",
    "   (+ a 1))"
   ]
  },
  {
   "cell_type": "markdown",
   "metadata": {},
   "source": [
    "### 习题1.2\n",
    "\n",
    "将下列公式转化为前缀表示法：\n",
    "\n",
    "$$\\frac{5 + 4 + (2 - (3 - (6 + \\frac{4}{5})))}{3(6-2)(2-7)}$$"
   ]
  },
  {
   "cell_type": "code",
   "execution_count": 17,
   "metadata": {
    "collapsed": false
   },
   "outputs": [
    {
     "data": {
      "text/plain": [
       "-37/150"
      ]
     },
     "execution_count": 17,
     "metadata": {},
     "output_type": "execute_result"
    }
   ],
   "source": [
    "(/ (+ 5 4 \n",
    "      (- 2 (- 3 (+ 6 \n",
    "                   (/ 4 5)))))\n",
    "   (* 3 (- 6 2) (- 2 7)))"
   ]
  },
  {
   "cell_type": "markdown",
   "metadata": {},
   "source": [
    "### 习题1.3\n",
    "\n",
    "定义一个过程，接受3个数字作为参数，并返回较大两个数字之和。"
   ]
  },
  {
   "cell_type": "code",
   "execution_count": 25,
   "metadata": {
    "collapsed": false
   },
   "outputs": [
    {
     "data": {
      "text/plain": [
       "4"
      ]
     },
     "execution_count": 25,
     "metadata": {},
     "output_type": "execute_result"
    }
   ],
   "source": [
    "(define (sum-of-larger-two a b c)\n",
    "  (cond ((and (<= a b) (<= a c)) (+ b c))\n",
    "        ((and (<= b a) (<= b c)) (+ a c))\n",
    "        (else (+ a b))))\n",
    "(sum-of-larger-two 1 2 2)"
   ]
  },
  {
   "cell_type": "markdown",
   "metadata": {},
   "source": [
    "### 习题1.4\n",
    "\n",
    "运算符也可以是组合表达式，据此解释下面的代码：\n",
    "\n",
    "```scm\n",
    "(define (a-plus-abs-b a b)\n",
    "  ((if (> b 0) + -) a b))\n",
    "```\n",
    "\n",
    "**解释：**当`b`为正数时，`if`语句返回`+`；当`b`为非正数时，`if`返回`-`作为运算符，因此`a-plus-abs-b`计算`b`的绝对值与`a`之和。"
   ]
  },
  {
   "cell_type": "code",
   "execution_count": 26,
   "metadata": {
    "collapsed": false
   },
   "outputs": [
    {
     "data": {
      "text/plain": [
       "2"
      ]
     },
     "execution_count": 26,
     "metadata": {},
     "output_type": "execute_result"
    }
   ],
   "source": [
    "(define (a-plus-abs-b a b)\n",
    "  ((if (> b 0) + -) a b))\n",
    "(a-plus-abs-b 1 -1)"
   ]
  },
  {
   "cell_type": "markdown",
   "metadata": {},
   "source": [
    "### 习题1.5\n",
    "\n",
    "为检验解释器采用应用序还是正则序，定义如下两个过程（假设应用序和正则序中if表达式的求值方式相同）：\n",
    "\n",
    "```scm\n",
    "(define (p) (p))\n",
    "(define (test x y)\n",
    "  (if (= x 0)\n",
    "      0\n",
    "      y))\n",
    "(test 0 (p))\n",
    "```\n",
    "\n",
    "**解释：**若解释器采用应用序，当对`(test 0 (p))`求值时，需要先对参数`(p)`求值，则会陷入死循环；反之若是正则序，则会返回0。\n",
    "\n",
    "### 习题1.6\n",
    "\n",
    "是否可以通过如下定义来取代特殊形式`if`："
   ]
  },
  {
   "cell_type": "code",
   "execution_count": 1,
   "metadata": {
    "collapsed": true
   },
   "outputs": [],
   "source": [
    "(define (new-if predicate\n",
    "                then-clause\n",
    "                else-clause)\n",
    "  (cond (predicate then-clause)\n",
    "        (else else-clause)))"
   ]
  },
  {
   "cell_type": "code",
   "execution_count": 2,
   "metadata": {
    "collapsed": false
   },
   "outputs": [
    {
     "data": {
      "text/plain": [
       "5"
      ]
     },
     "execution_count": 2,
     "metadata": {},
     "output_type": "execute_result"
    }
   ],
   "source": [
    "(new-if (= 2 3) 0 5)"
   ]
  },
  {
   "cell_type": "code",
   "execution_count": 3,
   "metadata": {
    "collapsed": false
   },
   "outputs": [
    {
     "data": {
      "text/plain": [
       "0"
      ]
     },
     "execution_count": 3,
     "metadata": {},
     "output_type": "execute_result"
    }
   ],
   "source": [
    "(new-if (= 1 1) 0 5)"
   ]
  },
  {
   "cell_type": "markdown",
   "metadata": {},
   "source": [
    "特殊形式`if`中，如果第一个从句`predicate`判断为真时，`else`从句将不会被执行。而`new-if`是通过`define`定义的过程，若解释器采用应用序，参数将先被执行："
   ]
  },
  {
   "cell_type": "code",
   "execution_count": 5,
   "metadata": {
    "collapsed": false
   },
   "outputs": [
    {
     "name": "stdout",
     "output_type": "stream",
     "text": [
      "helloworld"
     ]
    }
   ],
   "source": [
    "(new-if (= 1 1) (display \"hello\") (display \"world\"))"
   ]
  },
  {
   "cell_type": "code",
   "execution_count": 6,
   "metadata": {
    "collapsed": false
   },
   "outputs": [
    {
     "name": "stdout",
     "output_type": "stream",
     "text": [
      "hello"
     ]
    }
   ],
   "source": [
    "(if (= 1 1) (display \"hello\") (display \"world\"))"
   ]
  },
  {
   "cell_type": "markdown",
   "metadata": {},
   "source": [
    "因此当`new-if`用在求平方根的过程中时，`sqrt-iter`将被递归执行，导致死循环。"
   ]
  },
  {
   "cell_type": "markdown",
   "metadata": {},
   "source": [
    "### 习题1.7\n",
    "\n",
    "改进`sqrt-iter`中的`good-enough?`过程，以两次猜测的差值小于预设值为判断标准："
   ]
  },
  {
   "cell_type": "code",
   "execution_count": 18,
   "metadata": {
    "collapsed": false
   },
   "outputs": [
    {
     "data": {
      "text/plain": [
       "0.03230844833048122"
      ]
     },
     "execution_count": 18,
     "metadata": {},
     "output_type": "execute_result"
    }
   ],
   "source": [
    "(define (square x)\n",
    "  (* x x))\n",
    "(define (sqrt-iter guess x)\n",
    "  (if (good-enough? guess x)\n",
    "      guess\n",
    "      (sqrt-iter (improve guess x) x)))\n",
    "(define (improve guess x)\n",
    "  (avg guess (/ x guess)))\n",
    "(define (avg x y)\n",
    "  (/ (+ x y) 2))\n",
    "(define (good-enough? guess x)\n",
    "  (< (abs (- x (square guess))) 0.001))\n",
    "\n",
    "(define (sqrt x)\n",
    "  (sqrt-iter 1.0 x))\n",
    "(sqrt 0.0001)"
   ]
  },
  {
   "cell_type": "code",
   "execution_count": 27,
   "metadata": {
    "collapsed": false
   },
   "outputs": [
    {
     "data": {
      "text/plain": [
       "1e+43"
      ]
     },
     "execution_count": 27,
     "metadata": {},
     "output_type": "execute_result"
    }
   ],
   "source": [
    "(sqrt 100000000000000000000000000000000000000000000000000000000000000000000000000000000000000)"
   ]
  },
  {
   "cell_type": "code",
   "execution_count": 26,
   "metadata": {
    "collapsed": false
   },
   "outputs": [
    {
     "data": {
      "text/plain": [
       "0.010120218365353947"
      ]
     },
     "execution_count": 26,
     "metadata": {},
     "output_type": "execute_result"
    }
   ],
   "source": [
    "(define (sqrt-iter guess x)\n",
    "  (if (good-enough? guess x)\n",
    "      guess\n",
    "      (sqrt-iter (improve guess x) x)))\n",
    "; avg\n",
    "(define (avg x y)\n",
    "  (/ (+ x y) 2))\n",
    "; square\n",
    "(define (square x)\n",
    "  (* x x))\n",
    "; improve\n",
    "(define (improve guess x)\n",
    "  (avg guess (/ x guess)))\n",
    "; guess\n",
    "(define (good-enough? guess x)\n",
    "  (< (abs (- guess (improve guess x))) 0.001))\n",
    "(define (sqrt x)\n",
    "  (sqrt-iter 1.0 x))\n",
    "(sqrt 0.0001)"
   ]
  },
  {
   "cell_type": "code",
   "execution_count": 25,
   "metadata": {
    "collapsed": false
   },
   "outputs": [
    {
     "data": {
      "text/plain": [
       "1e+43"
      ]
     },
     "execution_count": 25,
     "metadata": {},
     "output_type": "execute_result"
    }
   ],
   "source": [
    "(sqrt 100000000000000000000000000000000000000000000000000000000000000000000000000000000000000)"
   ]
  },
  {
   "cell_type": "markdown",
   "metadata": {},
   "source": [
    "### 习题1.8\n",
    "\n",
    "根据下面的公式，利用牛顿法求立方根：\n",
    "\n",
    "$$\\frac{x/y^2 + 2y}{3}$$"
   ]
  },
  {
   "cell_type": "code",
   "execution_count": 1,
   "metadata": {
    "collapsed": false
   },
   "outputs": [
    {
     "data": {
      "text/plain": [
       "3.0000005410641766"
      ]
     },
     "execution_count": 1,
     "metadata": {},
     "output_type": "execute_result"
    }
   ],
   "source": [
    "(define (cube-iter guess x)\n",
    "  (if (good-enough? guess x)\n",
    "      guess\n",
    "      (cube-iter (improve guess x) x)))\n",
    "\n",
    "; good-enough?\n",
    "(define (good-enough? guess x)\n",
    "  (< (abs (- guess (improve guess x))) 0.0001))\n",
    "; improve\n",
    "(define (improve guess x)\n",
    "  (/ (+ (/ x\n",
    "           (* guess guess))\n",
    "        (* 2 guess))\n",
    "     3))\n",
    "; \n",
    "(define (cube-root x)\n",
    "  (cube-iter 1.0 x))\n",
    "\n",
    "(cube-root 27)"
   ]
  },
  {
   "cell_type": "markdown",
   "metadata": {
    "collapsed": true
   },
   "source": [
    "### 习题1.9\n",
    "\n",
    "下面两种`+`运算的定义，利用替换模型说明在计算`(+ 4 5)`时的计算过程，并说明是递归还是迭代？"
   ]
  },
  {
   "cell_type": "code",
   "execution_count": 3,
   "metadata": {
    "collapsed": true
   },
   "outputs": [],
   "source": [
    "(define (+ a b)\n",
    "  (if (= a 0)\n",
    "      b\n",
    "      (inc (+ (dec a) b))))\n",
    "; (+ 4 5)\n",
    "; (inc (+ (dec 4) 5))\n",
    "; (inc (inc (+ (dec 3) 5)))\n",
    "; (inc (inc (inc (+ (dec 2) 5))))\n",
    "; (inc (inc (inc (inc (+ (dec 1) 5)))))\n",
    "; (inc (inc (inc (inc (+ 0 5)))))\n",
    "; (inc (inc (inc (inc 5))))\n",
    "; (inc (inc (inc 6)))\n",
    "; (inc (inc 7))\n",
    "; (inc 8)\n",
    "; 9\n",
    "; 递归计算过程"
   ]
  },
  {
   "cell_type": "code",
   "execution_count": 5,
   "metadata": {
    "collapsed": true
   },
   "outputs": [],
   "source": [
    "(define (+ a b)\n",
    "  (if (= a 0)\n",
    "      b\n",
    "      (+ (dec a) (inc b))))\n",
    "; (+ 4 5)\n",
    "; (+ (dec 4) (inc 5))\n",
    "; (+ 3 6)\n",
    "; (+ (dec 3) (inc 6))\n",
    "; (+ 2 7)\n",
    "; (+ (dec 2) (inc 7))\n",
    "; (+ 1 8)\n",
    "; (+ (dec 1) (inc 8))\n",
    "; (+ 0 9)\n",
    "; 9\n",
    "; 迭代计算过程"
   ]
  },
  {
   "cell_type": "markdown",
   "metadata": {},
   "source": [
    "###习题1.10\n",
    "\n",
    "Ackermann 函数："
   ]
  },
  {
   "cell_type": "code",
   "execution_count": 6,
   "metadata": {
    "collapsed": true
   },
   "outputs": [],
   "source": [
    "(define (A x y)\n",
    "  (cond ((= y 0) 0)\n",
    "        ((= x 0) (* 2 y))\n",
    "        ((= y 1) 2)\n",
    "        (else (A (- x 1)\n",
    "                 (A x (- y 1))))))"
   ]
  },
  {
   "cell_type": "code",
   "execution_count": 7,
   "metadata": {
    "collapsed": false
   },
   "outputs": [
    {
     "data": {
      "text/plain": [
       "1024"
      ]
     },
     "execution_count": 7,
     "metadata": {},
     "output_type": "execute_result"
    }
   ],
   "source": [
    "(A 1 10)"
   ]
  },
  {
   "cell_type": "code",
   "execution_count": 8,
   "metadata": {
    "collapsed": false
   },
   "outputs": [
    {
     "data": {
      "text/plain": [
       "65536"
      ]
     },
     "execution_count": 8,
     "metadata": {},
     "output_type": "execute_result"
    }
   ],
   "source": [
    "(A 2 4)"
   ]
  },
  {
   "cell_type": "code",
   "execution_count": 9,
   "metadata": {
    "collapsed": false
   },
   "outputs": [
    {
     "data": {
      "text/plain": [
       "65536"
      ]
     },
     "execution_count": 9,
     "metadata": {},
     "output_type": "execute_result"
    }
   ],
   "source": [
    "(A 3 3)"
   ]
  },
  {
   "cell_type": "markdown",
   "metadata": {},
   "source": [
    "对于下面定义的过程`f`，`g`，`h`，分别给出其计算的数学函数："
   ]
  },
  {
   "cell_type": "code",
   "execution_count": 18,
   "metadata": {
    "collapsed": false
   },
   "outputs": [],
   "source": [
    "(define (f n) (A 0 n))"
   ]
  },
  {
   "cell_type": "markdown",
   "metadata": {},
   "source": [
    "$$(f\\ n) = 2n$$"
   ]
  },
  {
   "cell_type": "code",
   "execution_count": 13,
   "metadata": {
    "collapsed": true
   },
   "outputs": [],
   "source": [
    "(define (g n) (A 1 n))"
   ]
  },
  {
   "cell_type": "markdown",
   "metadata": {},
   "source": [
    "$$(g\\ n) = 2^n$$"
   ]
  },
  {
   "cell_type": "code",
   "execution_count": 14,
   "metadata": {
    "collapsed": true
   },
   "outputs": [],
   "source": [
    "(define (h n) (A 2 n))"
   ]
  },
  {
   "cell_type": "markdown",
   "metadata": {},
   "source": [
    "$$(h\\ n) = 2^{2^{2^{\\ \\dots -> n}}}$$"
   ]
  },
  {
   "cell_type": "markdown",
   "metadata": {
    "collapsed": true
   },
   "source": [
    "###习题1.11\n",
    "\n",
    "分别用递归和迭代过程计算$f(n)$：\n",
    "\n",
    "$$f(n) = \\begin{cases}n & n<3\\\\f(n-1)+2f(n-2)+3f(n-3) & n \\geq 3\\end{cases}$$"
   ]
  },
  {
   "cell_type": "code",
   "execution_count": 4,
   "metadata": {
    "collapsed": false
   },
   "outputs": [],
   "source": [
    "; 递归\n",
    "(define (f n)\n",
    "  (if (< n 3)\n",
    "      n\n",
    "      (+ (f (- n 1)) \n",
    "         (* 2 (f (- n 2)))\n",
    "         (* 3 (f (- n 3))))))\n",
    "\n",
    "; 迭代\n",
    "(define (iter-f f-3 f-2 f-1 n)\n",
    "  (if (< n 3)\n",
    "      f-1\n",
    "      (iter-f f-2 f-1 (+ f-1 (* 2 f-2) (* 3 f-3)) (- n 1))))\n",
    "(define (f2 n)\n",
    "  (if (< n 3)\n",
    "      n\n",
    "      (iter-f 0 1 2 n)))"
   ]
  },
  {
   "cell_type": "markdown",
   "metadata": {},
   "source": [
    "###习题1.12\n",
    "\n",
    "用递归过程求杨辉三角中的元素：\n",
    "\n",
    "          1\n",
    "         1 1\n",
    "        1 2 1\n",
    "       1 3 3 1\n",
    "      1 4 6 4 1\n",
    "      ..."
   ]
  },
  {
   "cell_type": "code",
   "execution_count": 16,
   "metadata": {
    "collapsed": false
   },
   "outputs": [
    {
     "data": {
      "text/plain": [
       "6"
      ]
     },
     "execution_count": 16,
     "metadata": {},
     "output_type": "execute_result"
    }
   ],
   "source": [
    "(define (pascal row col)\n",
    "  (if (or (= row 1) (= col 1) (= row col))\n",
    "      1\n",
    "      (+ (pascal (- row 1) (- col 1)) (pascal (- row 1) col))))\n",
    "(pascal 5 3)"
   ]
  },
  {
   "cell_type": "markdown",
   "metadata": {
    "collapsed": true
   },
   "source": [
    "###习题1.13\n",
    "\n",
    "证明$Fib(n)$等于距$ \\varphi^n/\\sqrt{5}$最近的整数，其中$ \\varphi = (1+\\sqrt{5})/2$。\n",
    "\n",
    "*提示：令 $ \\psi = (1-\\sqrt{5})/2$，根据斐波那契数列的定义推导： $Fib(n)=(\\varphi^n-\\psi^n)/\\sqrt{5}$*"
   ]
  },
  {
   "cell_type": "markdown",
   "metadata": {},
   "source": [
    "###习题1.14\n",
    "\n",
    "画出1.2.2中`(count-change 11)`计算过程的树形图。随着需凑面值的增加，这一计算过程计算步骤、空间的增长阶分别是什么？"
   ]
  },
  {
   "cell_type": "markdown",
   "metadata": {},
   "source": [
    "###习题1.15\n",
    "\n",
    "当角度（以弧度为单位）足够小的时候，$sin x  \\approx x$，又根据三角恒等式\n",
    "\n",
    "$$sin x = 3sin\\frac{x}{3}-4sin^3\\frac{x}{3}$$\n",
    "\n",
    "可以将较大角度的正弦值逐步缩小为较小（例如小于0.1弧度）角度的正弦值，过程如下："
   ]
  },
  {
   "cell_type": "code",
   "execution_count": 13,
   "metadata": {
    "collapsed": true
   },
   "outputs": [],
   "source": [
    "(define (cube x) (* x x x))\n",
    "(define (p x) (- (* 3 x) (* 4 (cube x))))\n",
    "\n",
    "(define (sine ang)\n",
    "  (if (not (> (abs ang) 0.1))\n",
    "      ang\n",
    "      (p (sine (/ ang 3.0)))))"
   ]
  },
  {
   "cell_type": "code",
   "execution_count": 14,
   "metadata": {
    "collapsed": false
   },
   "outputs": [
    {
     "data": {
      "text/plain": [
       "-0.39980345741334"
      ]
     },
     "execution_count": 14,
     "metadata": {},
     "output_type": "execute_result"
    }
   ],
   "source": [
    "(sine 12.15)"
   ]
  },
  {
   "cell_type": "markdown",
   "metadata": {},
   "source": [
    "问题：\n",
    "\n",
    "1. `(sine 12.15)`的计算过程中共调用了多少次`(p x)`?\n",
    "2. `(sine a)`计算步骤和空间的增长阶分别是什么？\n",
    "\n",
    "答：\n",
    "\n",
    "1. 5次；\n",
    "2. 很显然`(sine a)`是一个递归过程，但并非线性递归；关键在于随着`a`的增加，递归调用步骤是如何增加的，假设`(sine a)`的时候共调用`m`步，则有：\n",
    "\n",
    "$$k * 3^m = a;$$\n",
    "\n",
    "其中$k$为小于0.1的最终结果，可以忽略不计，则有\n",
    "\n",
    "$$m = log_3a;$$\n",
    "\n",
    "因此，`(sine a)`的计算步骤、空间增长阶均为$\\Theta(\\log a)$。"
   ]
  },
  {
   "cell_type": "markdown",
   "metadata": {
    "collapsed": true
   },
   "source": [
    "### 习题1.16\n",
    "\n",
    "写一个增长阶为$\\Theta(\\log n))$的迭代过程计算$b^n$。"
   ]
  },
  {
   "cell_type": "code",
   "execution_count": 8,
   "metadata": {
    "collapsed": false
   },
   "outputs": [
    {
     "data": {
      "text/plain": [
       "27"
      ]
     },
     "execution_count": 8,
     "metadata": {},
     "output_type": "execute_result"
    }
   ],
   "source": [
    "(define (fast-expt b n)\n",
    "  (fast-expt-iter b n 1))\n",
    "\n",
    "(define (even? n)\n",
    "  (= (remainder n 2) 0))\n",
    "(define (square x)\n",
    "  (* x x))\n",
    "(define (fast-expt-iter b n a)\n",
    "  (cond ((= n 0) a)\n",
    "        ((even? n) (fast-expt-iter (square b) (/ n 2) a))\n",
    "        (else (fast-expt-iter b (- n 1) (* a b)))))\n",
    "\n",
    "(fast-expt 3 3)"
   ]
  },
  {
   "cell_type": "markdown",
   "metadata": {},
   "source": [
    "### 习题1.17\n",
    "\n",
    "将乘法运算类比幂运算，写一个增长阶为$\\Theta(\\log n)$的迭代过程。可以用到`double`和`halve`。"
   ]
  },
  {
   "cell_type": "code",
   "execution_count": 15,
   "metadata": {
    "collapsed": false
   },
   "outputs": [
    {
     "data": {
      "text/plain": [
       "6"
      ]
     },
     "execution_count": 15,
     "metadata": {},
     "output_type": "execute_result"
    }
   ],
   "source": [
    "(define (double a)\n",
    "  (+ a a))\n",
    "(define (halve a)\n",
    "  (/ a 2))\n",
    "(define (even? a)\n",
    "  (= (remainder a 2) 0))\n",
    "\n",
    "(define (fast-* a b)\n",
    "  (cond ((= b 0) 0)\n",
    "        ((even? b) (double (* a (halve b))))\n",
    "        (else (+ a (fast-* a (- b 1))))))\n",
    "\n",
    "(fast-* 3 2)"
   ]
  },
  {
   "cell_type": "markdown",
   "metadata": {},
   "source": [
    "###习题1.18\n",
    "\n",
    "类比习题1.16跟习题1.17，写一个增长阶为$\\Theta(\\log n)$的迭代过程计算$a*b$。"
   ]
  },
  {
   "cell_type": "code",
   "execution_count": 18,
   "metadata": {
    "collapsed": false
   },
   "outputs": [
    {
     "data": {
      "text/plain": [
       "369"
      ]
     },
     "execution_count": 18,
     "metadata": {},
     "output_type": "execute_result"
    }
   ],
   "source": [
    "(define (fast-* a b)\n",
    "  (fast-*-iter a b 0))\n",
    "\n",
    "(define (even? a)\n",
    "  (= (remainder a 2) 0))\n",
    "\n",
    "(define (fast-*-iter a b prod)\n",
    "  (cond ((= b 0) prod)\n",
    "        ((even? b) (fast-*-iter (double a) (halve b) prod))\n",
    "        (else (fast-*-iter a (- b 1) (+ a prod)))))\n",
    "\n",
    "(fast-* 3 123)"
   ]
  },
  {
   "cell_type": "markdown",
   "metadata": {
    "collapsed": true
   },
   "source": [
    "### 习题1.19\n",
    "\n",
    "设变化：$T = \\begin{cases}a \\leftarrow a + b\\\\b \\leftarrow a\\end{cases}$，若从$(a, b) = (1, 0)$开始，经过$n$次变换$T^n$得到$Fib(n+1)$与$Fib(n)$。考虑一种特殊情况的$p=0, q=1$的变换：\n",
    "\n",
    "$$T_{pq} = \\begin{cases}a \\leftarrow bq + a(q + p)\\\\b \\leftarrow bp + aq\\end{cases},$$\n",
    "\n",
    "经过两次变换$(T_{pq})^2$的结果与只经过一次$T_{p^{'}q^{'}}$变换相同：\n",
    "\n",
    "$$(T_{pq})^2 = \\begin{cases}a \\leftarrow (bp + aq)q + (bq + a(q + p))(q + p)\\\\b \\leftarrow (bp + aq)p + (bq + a(q + p))q\\end{cases} = \\begin{cases}a \\leftarrow b(q^2 + 2pq) + a(p^2 + 2pq + 2q^2)\\\\b \\leftarrow b(p^2 + q^2) + a(2pq + q^2)\\end{cases},$$\n",
    "\n",
    "$p^{'}, q^{'}$可以用$p, q$表示：\n",
    "\n",
    "$$\\begin{cases}p^{'} = p^2 + q^2\\\\q^{'} = q^2 + 2pq\\end{cases},$$\n",
    "\n",
    "根据此公式可以得到增长阶为$\\log n$的迭代算法："
   ]
  },
  {
   "cell_type": "code",
   "execution_count": 3,
   "metadata": {
    "collapsed": false
   },
   "outputs": [
    {
     "data": {
      "text/plain": [
       "21"
      ]
     },
     "execution_count": 3,
     "metadata": {},
     "output_type": "execute_result"
    }
   ],
   "source": [
    "(define (fib n)\n",
    "  (fib-iter 1 0 0 1 n))\n",
    "\n",
    "(define (even? n) (= (remainder n 2) 0))\n",
    "(define (square x) (* x x))\n",
    "\n",
    "(define (fib-iter a b p q n)\n",
    "  (cond ((= n 0) b)\n",
    "        ((even? n) (fib-iter a\n",
    "                             b\n",
    "                             (+ (square p) (square q)) ; p'\n",
    "                             (+ (square q) (* 2 p q)) ; q'\n",
    "                             (/ n 2)))\n",
    "        (else (fib-iter \n",
    "               (+ (* b q) (* a q) (* a p)) \n",
    "               (+ (* b p) (* a q))\n",
    "               p\n",
    "               q\n",
    "               (- n 1)))))\n",
    "(fib 8)"
   ]
  },
  {
   "cell_type": "markdown",
   "metadata": {
    "collapsed": true
   },
   "source": [
    "### 习题1.20\n",
    "\n",
    "过程所产生的计算过程显然依赖于解释器的规则。例如迭代的`gcd`过程中，如果解释器采用正则序，试说明`(gcd 206 40)`所产生的计算过程以及`remainder`操作执行的次数，若是应用序呢？"
   ]
  },
  {
   "cell_type": "code",
   "execution_count": 3,
   "metadata": {
    "collapsed": true
   },
   "outputs": [],
   "source": [
    "; (define R remainder)\n",
    "\n",
    "; 正则序 - 16次\n",
    "; (GCD 206 40)\n",
    "; (if 40)\n",
    "\n",
    "; (GCD 40 (R 206 40))\n",
    "; (if (R 206 40)) => 1次\n",
    "\n",
    "; (GCD (R 206 40) (R 40 (R 206 40)))\n",
    "; (if (R 40 (R 206 40))) => 2次\n",
    "\n",
    "; (GCD (R 40 (R 206 40)) (R (R 206 40) (R 40 (R 206 40))))\n",
    "; (if (R (R 206 40) (R 40 (R 206 40)))) => 4次\n",
    "\n",
    "; (GCD (R (R 206 40) (R 40 (R 206 40))) (R (R 40 (R 206 40)) (R (R 206 40) (R 40 (R 206 40)))))\n",
    "; (if (R 40 (R 206 40))) (R (R 40 (R 206 40)) (R (R 206 40) (R 40 (R 206 40))))) => 9次\n",
    "\n",
    "; 2\n",
    "\n",
    "; 应用序 - 4次\n",
    "; (GCD 206 40)\n",
    "; (GCD 40 6) => 1次\n",
    "; (GCD 6 4) => 1次\n",
    "; (GCD 4 2) => 1次\n",
    "; (GCD 2 0) => 1次\n",
    "; 2"
   ]
  },
  {
   "cell_type": "markdown",
   "metadata": {},
   "source": [
    "###习题 1.21\n",
    "\n",
    "略。\n",
    "\n",
    "###习题1.22\n",
    "\n",
    "大部分Lisp实现中都包含一个基本过程`(runtime)`，用于返回系统运行时间（Calysto Scheme 使用`(current-time)`，返回自1970-1-1至今的秒数）。"
   ]
  },
  {
   "cell_type": "code",
   "execution_count": 16,
   "metadata": {
    "collapsed": false
   },
   "outputs": [
    {
     "data": {
      "text/plain": [
       "\"(current-time): returns the current time as number of seconds since 1970-1-1\""
      ]
     },
     "execution_count": 16,
     "metadata": {},
     "output_type": "execute_result"
    }
   ],
   "source": [
    "(help current-time)"
   ]
  },
  {
   "cell_type": "markdown",
   "metadata": {},
   "source": [
    "用如下方法可以记录素数检测程序运行的时间："
   ]
  },
  {
   "cell_type": "code",
   "execution_count": 1,
   "metadata": {
    "collapsed": false
   },
   "outputs": [
    {
     "name": "stdout",
     "output_type": "stream",
     "text": [
      "\n",
      "3***0.002023935317993164"
     ]
    }
   ],
   "source": [
    "; prime?\n",
    "(define (smallest-divisor n)\n",
    "  (find-divisor n 2))\n",
    "\n",
    "(define (square x)\n",
    "  (* x x))\n",
    "(define (divides? a b)\n",
    "  (= (remainder b a) 0))\n",
    "\n",
    "(define (find-divisor n test)\n",
    "  (cond ((> (square test) n) n)\n",
    "        ((divides? test n) test)\n",
    "        (else (find-divisor n (+ test 1)))))\n",
    "\n",
    "(define (prime? n)\n",
    "  (= n (smallest-divisor n)))\n",
    "\n",
    "; alternative runtime\n",
    "(define (runtime) (current-time))\n",
    "\n",
    "(define (timed-prime-test n)\n",
    "  (newline)\n",
    "  (display n)\n",
    "  (start-prime-test n (runtime))\n",
    ")\n",
    "(define (start-prime-test n start-time)\n",
    "  (if (prime? n)\n",
    "    (report-prime (- (runtime) start-time))))\n",
    "(define (report-prime elapsed-time)\n",
    "  (display \"***\")\n",
    "  (display elapsed-time))\n",
    "\n",
    "(timed-prime-test 3)"
   ]
  },
  {
   "cell_type": "markdown",
   "metadata": {},
   "source": [
    "用上述方法，写一个`search-for-primes`过程，检查指定范围内连续奇数是否为素数。分别找出大于1000，10000，100000，1000000的最小的三个素数，并记录检验时所需时间。由于检验算法的增长阶为$\\Theta(\\sqrt n)$，查看检验上述几个数字时间是否相差$\\sqrt{10}$。"
   ]
  },
  {
   "cell_type": "code",
   "execution_count": 16,
   "metadata": {
    "collapsed": false
   },
   "outputs": [
    {
     "name": "stdout",
     "output_type": "stream",
     "text": [
      "1009***0.04702496528625488\n",
      "1013***0.054631948471069336\n",
      "1019***0.044747114181518555\n",
      "\n",
      "Done!\n",
      "10007***0.14848089218139648\n",
      "10009***0.15208792686462402\n",
      "10037***0.153609037399292\n",
      "\n",
      "Done!\n",
      "100003***0.47511887550354004\n",
      "100019***0.4692230224609375\n",
      "100043***0.4567551612854004\n",
      "\n",
      "Done!\n",
      "1000003***1.460515022277832\n",
      "1000033***1.4657409191131592\n",
      "1000037***1.5991449356079102\n",
      "\n",
      "Done!\n",
      "10000019***4.688185930252075\n",
      "10000079***4.4377899169921875\n",
      "10000103***4.682032823562622\n",
      "\n",
      "Done!\n"
     ]
    },
    {
     "data": {
      "text/plain": [
       "3.1622776601683795"
      ]
     },
     "execution_count": 16,
     "metadata": {},
     "output_type": "execute_result"
    }
   ],
   "source": [
    "(define (even? n) (= (remainder n 2) 0) )\n",
    "(define (next-odd n)\n",
    "  (if (even? n)\n",
    "      (+ n 1)\n",
    "      (+ n 2)))\n",
    "\n",
    "; prime?\n",
    "(define (smallest-divisor n)\n",
    "  (find-divisor n 2))\n",
    "\n",
    "(define (square x)\n",
    "  (* x x))\n",
    "(define (divides? a b)\n",
    "  (= (remainder b a) 0))\n",
    "\n",
    "(define (find-divisor n test)\n",
    "  (cond ((> (square test) n) n)\n",
    "        ((divides? test n) test)\n",
    "        (else (find-divisor n (+ test 1)))))\n",
    "\n",
    "(define (prime? n)\n",
    "  (= n (smallest-divisor n)))\n",
    "\n",
    "(define (runtime) (current-time))\n",
    "\n",
    "(define (report-prime n elapsed-time)\n",
    "  (display n)\n",
    "  (display \"***\")\n",
    "  (display elapsed-time)\n",
    "  (newline))\n",
    "\n",
    "(define (start-prime-test n start-time)\n",
    "  (if (prime? n)\n",
    "      (report-prime n (- (runtime) start-time))))\n",
    "(define (timed-prime? n)\n",
    "  (start-prime-test n (runtime)))\n",
    "\n",
    "\n",
    "(define (search-for-primes n k)\n",
    "  (cond ((= k 0) (begin (newline) (display \"Done!\") (newline)))\n",
    "        ((timed-prime? n) (search-for-primes (next-odd n) (- k 1)))\n",
    "        (else (search-for-primes (next-odd n) k))))\n",
    "\n",
    "(search-for-primes 1000 3)\n",
    "(search-for-primes 10000 3)\n",
    "(search-for-primes 100000 3)\n",
    "(search-for-primes 1000000 3)\n",
    "\n",
    "(sqrt 10)\n"
   ]
  },
  {
   "cell_type": "code",
   "execution_count": 13,
   "metadata": {
    "collapsed": false
   },
   "outputs": [
    {
     "data": {
      "text/plain": [
       "3.2121194335656127"
      ]
     },
     "execution_count": 13,
     "metadata": {},
     "output_type": "execute_result"
    }
   ],
   "source": [
    "(/ 0.14353013038635254 0.04468393325805664)"
   ]
  },
  {
   "cell_type": "code",
   "execution_count": 14,
   "metadata": {
    "collapsed": false
   },
   "outputs": [
    {
     "data": {
      "text/plain": [
       "3.1881666220936897"
      ]
     },
     "execution_count": 14,
     "metadata": {},
     "output_type": "execute_result"
    }
   ],
   "source": [
    "(/ 0.4575979709625244  0.14353013038635254)"
   ]
  },
  {
   "cell_type": "code",
   "execution_count": 15,
   "metadata": {
    "collapsed": false
   },
   "outputs": [
    {
     "data": {
      "text/plain": [
       "3.160044391068642"
      ]
     },
     "execution_count": 15,
     "metadata": {},
     "output_type": "execute_result"
    }
   ],
   "source": [
    "(/ 1.4460299015045166 0.4575979709625244)"
   ]
  },
  {
   "cell_type": "code",
   "execution_count": 17,
   "metadata": {
    "collapsed": false
   },
   "outputs": [
    {
     "data": {
      "text/plain": [
       "3.2421085659254136"
      ]
     },
     "execution_count": 17,
     "metadata": {},
     "output_type": "execute_result"
    }
   ],
   "source": [
    "(/ 4.688185930252075 1.4460299015045166)"
   ]
  },
  {
   "cell_type": "markdown",
   "metadata": {},
   "source": [
    "从运行结果来看，随着输入数值的增加，所需时间并不严格按照$\\Theta(n)$的规律增长。"
   ]
  },
  {
   "cell_type": "markdown",
   "metadata": {},
   "source": [
    "###习题1.23\n",
    "\n",
    "`smallest-divisor`过程中，如果验证了2不是最小因子（也就是说n不是偶数），那么就无需继续验证其它偶数。写一个`(next test-divisor)`过程替代`(+ test-divisor 1)`，并利用习题1.22中的方法验证能否使运行时间减半。"
   ]
  },
  {
   "cell_type": "code",
   "execution_count": 19,
   "metadata": {
    "collapsed": false
   },
   "outputs": [
    {
     "name": "stdout",
     "output_type": "stream",
     "text": [
      "1009***0.04459810256958008\n",
      "1013***0.03642416000366211\n",
      "1019***0.0351560115814209\n",
      "\n",
      "Done!\n",
      "10007***0.10479903221130371\n",
      "10009***0.11206793785095215\n",
      "10037***0.10841488838195801\n",
      "\n",
      "Done!\n",
      "100003***0.3363509178161621\n",
      "100019***0.331712007522583\n",
      "100043***0.3507270812988281\n",
      "\n",
      "Done!\n",
      "1000003***1.089932918548584\n",
      "1000033***1.08274507522583\n",
      "1000037***1.0615179538726807\n",
      "\n",
      "Done!\n"
     ]
    }
   ],
   "source": [
    "(define (even? n) (= (remainder n 2) 0) )\n",
    "(define (next-odd n)\n",
    "  (if (even? n)\n",
    "      (+ n 1)\n",
    "      (+ n 2)))\n",
    "\n",
    "; prime?\n",
    "(define (smallest-divisor n)\n",
    "  (find-divisor n 2))\n",
    "\n",
    "(define (square x)\n",
    "  (* x x))\n",
    "(define (divides? a b)\n",
    "  (= (remainder b a) 0))\n",
    "\n",
    "(define (find-divisor n test)\n",
    "  (cond ((> (square test) n) n)\n",
    "        ((divides? test n) test)\n",
    "        (else (find-divisor n (next-odd test))))); 相当于跳过偶数\n",
    "\n",
    "(define (prime? n)\n",
    "  (= n (smallest-divisor n)))\n",
    "\n",
    "(define (runtime) (current-time))\n",
    "\n",
    "(define (report-prime n elapsed-time)\n",
    "  (display n)\n",
    "  (display \"***\")\n",
    "  (display elapsed-time)\n",
    "  (newline))\n",
    "\n",
    "(define (start-prime-test n start-time)\n",
    "  (if (prime? n)\n",
    "      (report-prime n (- (runtime) start-time))))\n",
    "(define (timed-prime? n)\n",
    "  (start-prime-test n (runtime)))\n",
    "\n",
    "\n",
    "(define (search-for-primes n k)\n",
    "  (cond ((= k 0) (begin (newline) (display \"Done!\") (newline)))\n",
    "        ((timed-prime? n) (search-for-primes (next-odd n) (- k 1)))\n",
    "        (else (search-for-primes (next-odd n) k))))\n",
    "\n",
    "(search-for-primes 1000 3)\n",
    "(search-for-primes 10000 3)\n",
    "(search-for-primes 100000 3)\n",
    "(search-for-primes 1000000 3)\n"
   ]
  },
  {
   "cell_type": "markdown",
   "metadata": {},
   "source": [
    "与习题1.22相比，虽然相应的时间都有所减少，但并没有遵循2倍的比例。\n",
    "\n",
    "###习题1.24\n",
    "\n",
    "将习题1.22中素数检验的方法换成`fast-prime?`，其时间增长阶为$\\Theta(log  n)$，比较与习题1.22中运行时间的差异。"
   ]
  },
  {
   "cell_type": "code",
   "execution_count": 24,
   "metadata": {
    "collapsed": false
   },
   "outputs": [
    {
     "name": "stdout",
     "output_type": "stream",
     "text": [
      "1009***0.6230161190032959\n",
      "1013***0.6573870182037354\n",
      "1019***0.6653029918670654\n",
      "\n",
      "Done!\n",
      "10007***0.7722489833831787\n",
      "10009***0.7384951114654541\n",
      "10037***0.7647631168365479\n",
      "\n",
      "Done!\n",
      "100003***0.8773889541625977\n",
      "100019***0.9062371253967285\n",
      "100043***0.923259973526001\n",
      "\n",
      "Done!\n",
      "1000003***1.0050959587097168\n",
      "1000033***0.9894258975982666\n",
      "1000037***1.054494857788086\n",
      "\n",
      "Done!\n"
     ]
    }
   ],
   "source": [
    "(define (even? n) (= (remainder n 2) 0) )\n",
    "(define (next-odd n)\n",
    "  (if (even? n)\n",
    "      (+ n 1)\n",
    "      (+ n 2)))\n",
    "\n",
    ";; load \"random.scm\"\n",
    "(define R 1)\n",
    "(define (seed i) (set! R i))\n",
    "\n",
    "(define A 16807)\n",
    "(define B 0)\n",
    "(define M 2147483647)\n",
    "\n",
    "(define (LCG)\n",
    "  (begin\n",
    "   (seed (remainder (+ (* A R) B) M))\n",
    "      R))\n",
    "(define (random n)\n",
    "  (round (* (/ (LCG) (- M 1)) n) ))\n",
    "(seed (round (current-time)))\n",
    "\n",
    "(define (even? x)\n",
    "  (= (remainder x 2) 0))\n",
    "(define (square x)\n",
    "  (* x x))\n",
    "\n",
    ";; (define (fast-expt base exp)\n",
    ";;   (cond ((= exp 0) 1)\n",
    ";;         ((even? exp) (square (fast-expt base (/ exp 2))))\n",
    ";;         (else (* base (fast-expt base (- exp 1))))))\n",
    ";; (define (expmod base exp n)\n",
    ";;   (remainder (fast-expt base exp) n))\n",
    "\n",
    "(define (expmod base exp m)\n",
    "  (cond ((= exp 0) 1)\n",
    "        ((even? exp) (remainder (square (expmod base (/ exp 2) m)) m))\n",
    "        (else (remainder (* base (expmod base (- exp 1) m)) m))))\n",
    "\n",
    "(define (fermat-test n)\n",
    "  (define (try-it a)\n",
    "    (= (expmod a n n) a))\n",
    "  (try-it (+ 1 (random (- n 1))))) \n",
    "\n",
    "(define (fast-prime? n times)\n",
    "  (cond ((= times 0) #t)\n",
    "        ((fermat-test n)\n",
    "         (fast-prime? n (- times 1)))\n",
    "        (else #f)))\n",
    "\n",
    "\n",
    "(define (runtime) (current-time))\n",
    "\n",
    "(define (report-prime n elapsed-time)\n",
    "  (display n)\n",
    "  (display \"***\")\n",
    "  (display elapsed-time)\n",
    "  (newline))\n",
    "\n",
    "(define (start-prime-test n start-time)\n",
    "  (if (fast-prime? n 20)\n",
    "      (report-prime n (- (runtime) start-time))))\n",
    "(define (timed-prime? n)\n",
    "  (start-prime-test n (runtime)))\n",
    "\n",
    "\n",
    "(define (search-for-primes n k)\n",
    "  (cond ((= k 0) (begin (newline) (display \"Done!\") (newline)))\n",
    "        ((timed-prime? n) (search-for-primes (next-odd n) (- k 1)))\n",
    "        (else (search-for-primes (next-odd n) k))))\n",
    "\n",
    "(search-for-primes 1000 3)\n",
    "(search-for-primes 10000 3)\n",
    "(search-for-primes 100000 3)\n",
    "(search-for-primes 1000000 3)\n"
   ]
  },
  {
   "cell_type": "markdown",
   "metadata": {},
   "source": [
    "相反时间比习题1.22要长很多，原因可能出在`random`方法耗时较多。（将随机检验次数减少，程序消耗时间显著减少。）\n",
    "\n",
    "###习题1.25\n",
    "\n",
    "`fast-prime?`中直接定义："
   ]
  },
  {
   "cell_type": "code",
   "execution_count": 25,
   "metadata": {
    "collapsed": true
   },
   "outputs": [],
   "source": [
    "(define (expmod base exp m)\n",
    "  (remainder (fast-expt base exp) m))"
   ]
  },
  {
   "cell_type": "markdown",
   "metadata": {},
   "source": [
    "与原文中相比："
   ]
  },
  {
   "cell_type": "code",
   "execution_count": 26,
   "metadata": {
    "collapsed": true
   },
   "outputs": [],
   "source": [
    "(define (expmod base exp m)\n",
    "  (cond ((= exp 0) 1)\n",
    "        ((even? exp) (remainder (square (expmod base (/ exp 2) m)) m))\n",
    "        (else (remainder (* base (expmod base (- exp 1) m)) m))))"
   ]
  },
  {
   "cell_type": "markdown",
   "metadata": {},
   "source": [
    "在计算较大的幂值的余数时，不需要花费大量时间去求出具体的幂值，可以快速求出余数。\n",
    "\n",
    "### 习题1.26\n",
    "\n",
    "改写`(expmod base exp m)`为："
   ]
  },
  {
   "cell_type": "code",
   "execution_count": 27,
   "metadata": {
    "collapsed": true
   },
   "outputs": [],
   "source": [
    "(define (expmod base exp m)\n",
    "  (cond ((= exp 0) 1)\n",
    "        ((even? exp) (remainder (*\n",
    "                                 (expmod base (/ exp 2) m)\n",
    "                                 (expmod base (/ exp 2) m)) m))\n",
    "        (else (remainder (* base (expmod base (- exp 1) m)) m))))"
   ]
  },
  {
   "cell_type": "markdown",
   "metadata": {},
   "source": [
    "会将增长阶由$\\Theta(log n)$变为$\\Theta(n)$，为什么？"
   ]
  },
  {
   "cell_type": "markdown",
   "metadata": {},
   "source": [
    "```\n",
    "(* (expmod base (/ exp 2) m)\n",
    "    (expmod base (/ exp 2) m))\n",
    "```\n",
    "与 `square`相比，调用了两次`expmod`，将`(/ exp 2)`所节省的计算抵消了。"
   ]
  },
  {
   "cell_type": "markdown",
   "metadata": {},
   "source": [
    "### 习题1.27\n",
    "\n",
    "卡迈克尔数（Carmichael numbers）是能够逃过费马小定理测验的数，即其满足费马小定理但本身并不是质数。写一个过程检验正整数$n$是否是卡迈克尔数。"
   ]
  },
  {
   "cell_type": "code",
   "execution_count": 32,
   "metadata": {
    "collapsed": false
   },
   "outputs": [
    {
     "data": {
      "text/plain": [
       "#t"
      ]
     },
     "execution_count": 32,
     "metadata": {},
     "output_type": "execute_result"
    }
   ],
   "source": [
    "(define (carmichael? n)\n",
    "  (carmichael-test n 2))\n",
    "\n",
    "(define (even? n) (= (remainder n 2) 0) )\n",
    "(define (square x) (* x x))\n",
    "(define (expmod base exp m)\n",
    "  (cond ((= exp 0) 1)\n",
    "        ((even? exp) (remainder (square (expmod base (/ exp 2) m)) m))\n",
    "        (else (remainder (* base (expmod base (- exp 1) m)) m))))\n",
    "\n",
    "(define (carmichael-test n a)\n",
    "  (cond ((= a n) #t)\n",
    "        ((= (expmod a n n) a) (carmichael-test n (+ a 1)))\n",
    "        (else #f)))\n",
    "\n",
    "(carmichael? 1105)"
   ]
  },
  {
   "cell_type": "markdown",
   "metadata": {},
   "source": [
    "###习题1.28\n",
    "\n",
    "需要注意的是，这里并不是实现严格的Miller-Rabin算法，但是原理是相同的。"
   ]
  },
  {
   "cell_type": "code",
   "execution_count": 63,
   "metadata": {
    "collapsed": false
   },
   "outputs": [
    {
     "name": "stdout",
     "output_type": "stream",
     "text": [
      "\n",
      "9\n",
      "924\n",
      "138\n",
      "718\n",
      "511\n",
      "460\n",
      "676\n",
      "984\n",
      "849\n",
      "247\n",
      "974\n",
      "925\n",
      "638\n",
      "866\n",
      "702\n",
      "486\n",
      "349\n",
      "696\n",
      "662\n",
      "335\n",
      "226"
     ]
    },
    {
     "data": {
      "text/plain": [
       "#t"
      ]
     },
     "execution_count": 63,
     "metadata": {},
     "output_type": "execute_result"
    }
   ],
   "source": [
    "(define (square x) (* x x))\n",
    "(define (even? x) (= (remainder x 2) 0))\n",
    ";; load \"random.scm\"\n",
    "(define R 1)\n",
    "(define (seed i) (set! R i))\n",
    "\n",
    "(define A 16807)\n",
    "(define B 0)\n",
    "(define M 2147483647)\n",
    "\n",
    "(define (LCG)\n",
    "  (begin\n",
    "   (seed (remainder (+ (* A R) B) M))\n",
    "      R))\n",
    "(define (random n)\n",
    "  (round (* (/ (LCG) (- M 1)) n) ))\n",
    "(define (runtime) (current-time))\n",
    "\n",
    "(seed (round (current-time)))\n",
    "\n",
    "(define (remainder-square a n)\n",
    "  (cond ((or (= a 1) (= a (- n 1))) 1)\n",
    "        ((= (remainder (square a) n) 1) 0)\n",
    "        (else (remainder (square a) n))))\n",
    "\n",
    "(define (expmod base exp m)\n",
    "  (cond ((= exp 0) 1)\n",
    "        ((even? exp) (remainder-square (expmod base (/ exp 2) m) m))\n",
    "        (else (remainder (* base (expmod base (- exp 1) m)) m))))\n",
    "(define (mr-test n a)\n",
    "  (newline)\n",
    "  (display a)\n",
    "   (= (expmod a (- n 1) n) 1))\n",
    "\n",
    "(define (miller-rabin n t)\n",
    "  (cond ((= t 0) #t)\n",
    "        ((mr-test n (+ 2 (random (- n 2)))) (miller-rabin n (- t 1)))\n",
    "        (else #f)))\n",
    "\n",
    "(miller-rabin 21 20)\n",
    "(miller-rabin 1009 20)"
   ]
  },
  {
   "cell_type": "code",
   "execution_count": 67,
   "metadata": {
    "collapsed": false
   },
   "outputs": [
    {
     "data": {
      "text/plain": [
       "#t"
      ]
     },
     "execution_count": 67,
     "metadata": {},
     "output_type": "execute_result"
    }
   ],
   "source": [
    "(define (prime-iter n i)\n",
    "  (cond ((= i n) #t)\n",
    "        ((= (remainder n i) 0) #f)\n",
    "        (else (prime-iter n (+ i 1)))))\n",
    "\n",
    "(define (prime? n)\n",
    "  (prime-iter n 2))\n",
    "\n",
    "(prime? 1009)\n",
    "(define (fermat-test? n t)\n",
    "  ())"
   ]
  },
  {
   "cell_type": "markdown",
   "metadata": {},
   "source": [
    "### 习题1.29\n",
    "\n",
    "根据辛普森规则（Simpson's Rule）求积分：\n",
    "\n",
    "$$\\frac{h}{3}(y_0 + 4y_1 + 2y_2 + 4y_3 + 2y_4 + \\dots +2y_{n-2} + 4 y_{n-1} + y_n)$$\n",
    "\n",
    "其中： $h = (b - a)/n$，对于偶数 $n$，$y_k = f(a + kh)$，$n$ 越大，越接近准确值。据此定义过程，并求0到1的立方函数的积分（$n$分别取100跟1000）。"
   ]
  },
  {
   "cell_type": "code",
   "execution_count": 18,
   "metadata": {
    "collapsed": false
   },
   "outputs": [
    {
     "data": {
      "text/plain": [
       "0.25"
      ]
     },
     "execution_count": 18,
     "metadata": {},
     "output_type": "execute_result"
    }
   ],
   "source": [
    "(define (even? x) (= (remainder x 2) 0))\n",
    "(define (cube x) (* x x x))\n",
    "\n",
    "(define (sum term a n)\n",
    "  (if (= n 0)\n",
    "      0\n",
    "      (+ (term a n)\n",
    "         (sum term a (- n 1)))))\n",
    "\n",
    "(define (simpson-rule f a b n)\n",
    "  (define (h a b n) (/ (- b a) n))\n",
    "  (define (term x k)\n",
    "    (* (cond ((or (= k 0) (= k n)) 1)\n",
    "             ((even? k) 2)\n",
    "             (else 4))\n",
    "       (f (+ x (* k (h x b n))))\n",
    "       ))\n",
    "  (/ (* (h a b n) (sum term a n)) 3.0))\n",
    "\n",
    "(simpson-rule cube 0 1 100)\n",
    "(simpson-rule cube 0 1 1000)"
   ]
  },
  {
   "cell_type": "markdown",
   "metadata": {
    "collapsed": true
   },
   "source": [
    "### 习题1.30\n",
    "\n",
    "将`sum`过程改为迭代的方式："
   ]
  },
  {
   "cell_type": "code",
   "execution_count": 3,
   "metadata": {
    "collapsed": false
   },
   "outputs": [
    {
     "data": {
      "text/plain": [
       "3025"
      ]
     },
     "execution_count": 3,
     "metadata": {},
     "output_type": "execute_result"
    }
   ],
   "source": [
    "(define (sum term a next b)\n",
    "  (define (iter a result)\n",
    "    (if (> a b)\n",
    "        result\n",
    "        (iter (next a) (+ result (term a)))))\n",
    "  (iter a 0))\n",
    "(define (inc n) (+ n 1))\n",
    "(define (cube x) (* x x x))\n",
    "(define (sum-cubes a b)\n",
    "  (sum cube a inc b))\n",
    "\n",
    "(sum-cubes 1 10)"
   ]
  },
  {
   "cell_type": "markdown",
   "metadata": {},
   "source": [
    "###习题1.31\n",
    "\n",
    "根据下面的公式将加法推广到乘法：\n",
    "\n",
    "$$\\frac{\\pi}{4} = \\frac{2*4*4*6*6*8}{3*3*5*5*7*7}$$"
   ]
  },
  {
   "cell_type": "code",
   "execution_count": 21,
   "metadata": {
    "collapsed": false
   },
   "outputs": [
    {
     "data": {
      "text/plain": [
       "3.143163842419204"
      ]
     },
     "execution_count": 21,
     "metadata": {},
     "output_type": "execute_result"
    }
   ],
   "source": [
    "(define (product term a next b)\n",
    "  (if (> a b)\n",
    "      1\n",
    "      (* (term a)\n",
    "         (product term (next a) next b))))\n",
    "\n",
    "(define (square x) (* x x))\n",
    "(define (term a)\n",
    "  (/ (* (- a 1) (+ a 1)) (* 1.0 (square a))))\n",
    "(define (next a) (+ a 2))\n",
    "\n",
    "(* 4 (product term 3 next 1000))"
   ]
  },
  {
   "cell_type": "markdown",
   "metadata": {},
   "source": [
    "再写一个迭代版本："
   ]
  },
  {
   "cell_type": "code",
   "execution_count": 25,
   "metadata": {
    "collapsed": false
   },
   "outputs": [
    {
     "data": {
      "text/plain": [
       "3.1431638424192028"
      ]
     },
     "execution_count": 25,
     "metadata": {},
     "output_type": "execute_result"
    }
   ],
   "source": [
    "(define (product term a next b )\n",
    "  (define (iter a result)\n",
    "    (if (> a b)\n",
    "        result\n",
    "        (iter (next a) (* result (term a)))))\n",
    "  (iter a 1))\n",
    "\n",
    "(define (square x) (* x x))\n",
    "(define (term a)\n",
    "  (/ (* (- a 1) (+ a 1)) (* 1.0 (square a))))\n",
    "(define (next a) (+ a 2))\n",
    "(* 4 (product term 3 next 1000))"
   ]
  },
  {
   "cell_type": "markdown",
   "metadata": {
    "collapsed": true
   },
   "source": [
    "###习题1.32\n",
    "\n",
    "进一步抽象，用`accumulate`来定义`sum`与`product`："
   ]
  },
  {
   "cell_type": "code",
   "execution_count": 5,
   "metadata": {
    "collapsed": false
   },
   "outputs": [
    {
     "name": "stdout",
     "output_type": "stream",
     "text": [
      "3025"
     ]
    },
    {
     "data": {
      "text/plain": [
       "3.143163842419204"
      ]
     },
     "execution_count": 5,
     "metadata": {},
     "output_type": "execute_result"
    }
   ],
   "source": [
    "(define (accumulate combiner null-value term a next b)\n",
    "  (if (> a b)\n",
    "      null-value\n",
    "      (combiner (term a)\n",
    "                (accumulate combiner null-value term (next a) next b))))\n",
    "\n",
    "(define (plus a b) (+ a b))\n",
    "(define (time a b) (* a b))\n",
    "(define (sum term a next b)\n",
    "  (accumulate plus 0 term a next b))\n",
    "(define (product term a next b)\n",
    "  (accumulate time 1 term a next b))\n",
    "\n",
    "(define (cube x) (* x x x))\n",
    "(define (next x) (+ x 1))\n",
    "\n",
    ";; test\n",
    "(display (sum cube 1 next 10))\n",
    "\n",
    ";; 1.31\n",
    "(define (square x) (* x x))\n",
    "(define (term a)\n",
    "  (/ (* (- a 1) (+ a 1)) (* 1.0 (square a))))\n",
    "(define (next a) (+ a 2))\n",
    "\n",
    "(* 4 (product term 3 next 1000))"
   ]
  },
  {
   "cell_type": "markdown",
   "metadata": {},
   "source": [
    "###习题1.33\n",
    "\n",
    "为习题1.32的`accumulate`添加过滤功能，只将满足`filter`的结果记入`combiner`计算。写一个这样的`filtered-accumulate`，接收与`accumulate`相同的参数，并计算：\n",
    "\n",
    "1. a 到 b 之间所有素数的平方和；\n",
    "2. 小于 n 的所有正整数的乘积。"
   ]
  },
  {
   "cell_type": "code",
   "execution_count": 34,
   "metadata": {
    "collapsed": false
   },
   "outputs": [
    {
     "name": "stdout",
     "output_type": "stream",
     "text": [
      "87"
     ]
    },
    {
     "data": {
      "text/plain": [
       "189"
      ]
     },
     "execution_count": 34,
     "metadata": {},
     "output_type": "execute_result"
    }
   ],
   "source": [
    "(define (filtered-accumulate combiner null-value term a next b filter)\n",
    "  (if (> a b)\n",
    "      null-value\n",
    "      (combiner (if (filter a b)\n",
    "                    (term a)\n",
    "                    null-value)\n",
    "                (filtered-accumulate combiner null-value term (next a) next b filter))))\n",
    "\n",
    "(define (plus a b) (+ a b))\n",
    "(define (time a b) (* a b))\n",
    "(define (square x) (* x x))\n",
    "(define (next x) (+ 1 x))\n",
    "(define (self x) x)\n",
    "\n",
    ";; prime?\n",
    "(define (prime? n)\n",
    "  (define (iter i n)\n",
    "    (cond ((or (= i 1) (= i n)) #t)\n",
    "          ((= (remainder n i) 0) #f)\n",
    "          (else (iter (+ 1 i) n))))\n",
    "  (iter 2 n))\n",
    "\n",
    "(define (prime-filter a b)\n",
    "  (prime? a))\n",
    "\n",
    ";; gcd\n",
    "(define (GCD a b)\n",
    "  (if (= b 0)\n",
    "      a\n",
    "      (GCD b (remainder a b))))\n",
    "\n",
    "(define (gcd-filter a b) (= (GCD b a) 1))\n",
    "\n",
    ";; test a\n",
    "(display (filtered-accumulate plus 0 square 2 next 10 prime-filter))\n",
    "\n",
    ";; test b\n",
    "(filtered-accumulate time 1 self 1 next 10 gcd-filter)"
   ]
  }
 ],
 "metadata": {
  "kernelspec": {
   "display_name": "Calysto Scheme 3",
   "language": "scheme",
   "name": "calysto_scheme"
  },
  "language_info": {
   "codemirror_mode": {
    "name": "scheme"
   },
   "mimetype": "text/x-scheme",
   "name": "scheme",
   "pygments_lexer": "scheme"
  }
 },
 "nbformat": 4,
 "nbformat_minor": 0
}
