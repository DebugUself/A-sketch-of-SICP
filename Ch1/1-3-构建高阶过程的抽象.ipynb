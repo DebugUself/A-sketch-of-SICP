{
 "cells": [
  {
   "cell_type": "markdown",
   "metadata": {
    "collapsed": false
   },
   "source": [
    "## 1.3 构建高阶过程的抽象\n",
    "\n",
    "前面已经见识过过程作为描述针对数字的组合操作的抽象，在构建时并不需要考虑具体数字的值。例如定义立方过程："
   ]
  },
  {
   "cell_type": "code",
   "execution_count": 1,
   "metadata": {
    "collapsed": true
   },
   "outputs": [],
   "source": [
    "(define (cube x) (* x x x))"
   ]
  },
  {
   "cell_type": "markdown",
   "metadata": {},
   "source": [
    "这里描述的是“怎样求立方”的方法，而不是具体数的立方值。\n",
    "\n",
    "即使到现在为止遇到的仅仅只是处理数学运算的过程，如果我们构建的抽象局限于只能接收数字作为参数的过程，我们也能感觉到受到很大的限制。通常有一些相同的编程模式会多次出现在不同的过程中，为了表达这些过程我们需要构建能够接收其它过程作为参数或返回值的过程，称为**高阶过程（higher-order procedures）**。"
   ]
  },
  {
   "cell_type": "markdown",
   "metadata": {},
   "source": [
    "### 1.3.1 过程作为参数"
   ]
  },
  {
   "cell_type": "markdown",
   "metadata": {},
   "source": [
    "考虑下面三个过程：1. 计算整数a到b之间整数的和："
   ]
  },
  {
   "cell_type": "code",
   "execution_count": 3,
   "metadata": {
    "collapsed": true
   },
   "outputs": [],
   "source": [
    "(define (sum-integers a b)\n",
    "  (if (> a b)\n",
    "      0\n",
    "      (+ a (sum-integers (+ a 1) b) )))"
   ]
  },
  {
   "cell_type": "markdown",
   "metadata": {},
   "source": [
    "2.整数a到b之间所有整数的立方和："
   ]
  },
  {
   "cell_type": "code",
   "execution_count": 4,
   "metadata": {
    "collapsed": true
   },
   "outputs": [],
   "source": [
    "(define (cube x) (* x x x))\n",
    "(define (sum-cubes a b)\n",
    "  (if (> a b)\n",
    "      0\n",
    "      (+ (cube a)\n",
    "         (sum-cubes (+ a 1) b))))"
   ]
  },
  {
   "cell_type": "markdown",
   "metadata": {},
   "source": [
    "3.计算下面序列的和：（收敛至$\\pi/8$）\n",
    "\n",
    "$$\\frac{1}{1 * 3} + \\frac{1}{5 * 7} + \\frac{1}{9 * 11} + \\dots$$"
   ]
  },
  {
   "cell_type": "code",
   "execution_count": 5,
   "metadata": {
    "collapsed": true
   },
   "outputs": [],
   "source": [
    "(define (pi-sum a b)\n",
    "  (if (> a b)\n",
    "      0\n",
    "      (+ (/ 1.0 (* a (+ a 2)))\n",
    "         (pi-sum (+ a 4) b))))"
   ]
  },
  {
   "cell_type": "markdown",
   "metadata": {},
   "source": [
    "上面三个过程的模式非常相似，差别仅在于计算相加项和计算下一个a的值的过程不同，由此我们可以得到上面三个过程的模板，只需要将不同的过程作为参数插入进模板中即可得到不同的计算过程："
   ]
  },
  {
   "cell_type": "code",
   "execution_count": 6,
   "metadata": {
    "collapsed": true
   },
   "outputs": [],
   "source": [
    "(define (<name> a b)\n",
    "  (if (> a b)\n",
    "      0\n",
    "      (+ (<term> a)\n",
    "         (<name> (<next> a) b))))"
   ]
  },
  {
   "cell_type": "markdown",
   "metadata": {},
   "source": [
    "实际上数学家们在很早之前就已经发明了这样的抽象用于描述序列的和：\n",
    "\n",
    "$$\\sum^b_{n=a}{f(n)} = f(a) + \\dots + f(b)$$"
   ]
  },
  {
   "cell_type": "markdown",
   "metadata": {},
   "source": [
    "这样的抽象表示让数学家们可以直接对求和的概念进行操作而不是针对某一特定求和的过程。我们也可以对上面提到的3个求和过程进行抽象："
   ]
  },
  {
   "cell_type": "code",
   "execution_count": 7,
   "metadata": {
    "collapsed": true
   },
   "outputs": [],
   "source": [
    "(define (sum term a next b)\n",
    "  (if (> a b)\n",
    "      0\n",
    "      (+ (term a)\n",
    "         (sum term (next a) next b))))"
   ]
  },
  {
   "cell_type": "markdown",
   "metadata": {},
   "source": [
    "然后不同的求和过程可以通过不同的参数设定给出："
   ]
  },
  {
   "cell_type": "code",
   "execution_count": 9,
   "metadata": {
    "collapsed": false
   },
   "outputs": [
    {
     "data": {
      "text/plain": [
       "3025"
      ]
     },
     "execution_count": 9,
     "metadata": {},
     "output_type": "execute_result"
    }
   ],
   "source": [
    "(define (inc n) (+ n 1))\n",
    "(define (sum-cubes a b)\n",
    "  (sum cube a inc b))\n",
    "\n",
    "(sum-cubes 1 10)"
   ]
  },
  {
   "cell_type": "code",
   "execution_count": 10,
   "metadata": {
    "collapsed": false
   },
   "outputs": [
    {
     "data": {
      "text/plain": [
       "55"
      ]
     },
     "execution_count": 10,
     "metadata": {},
     "output_type": "execute_result"
    }
   ],
   "source": [
    "(define (identity x) x)\n",
    "(define (sum-integers a b)\n",
    "  (sum identity a inc b))\n",
    "\n",
    "(sum-integers 1 10)"
   ]
  },
  {
   "cell_type": "code",
   "execution_count": 11,
   "metadata": {
    "collapsed": false
   },
   "outputs": [
    {
     "data": {
      "text/plain": [
       "3.139592655589783"
      ]
     },
     "execution_count": 11,
     "metadata": {},
     "output_type": "execute_result"
    }
   ],
   "source": [
    "(define (pi-sum a b)\n",
    "  (define (pi-term x)\n",
    "    (/ 1.0 (* x (+ x 2))))\n",
    "  (define (pi-next x)\n",
    "    (+ x 4))\n",
    "  (sum pi-term a pi-next b))\n",
    "\n",
    "(* 8 (pi-sum 1 1000))"
   ]
  },
  {
   "cell_type": "markdown",
   "metadata": {},
   "source": [
    "有了对序列任意序列求和的抽象概念之后，我们也可以像数学家一样基于求和推出极限的概念：\n",
    "\n",
    "$$\\int_a^bf = [ f(a + \\frac{dx}{2}) + f(a + dx + \\frac{dx}{2}) + f(a + 2dx + \\frac{dx}{2}) + \\dots ] dx$$"
   ]
  },
  {
   "cell_type": "code",
   "execution_count": 13,
   "metadata": {
    "collapsed": false
   },
   "outputs": [
    {
     "data": {
      "text/plain": [
       "0.24998750000000042"
      ]
     },
     "execution_count": 13,
     "metadata": {},
     "output_type": "execute_result"
    }
   ],
   "source": [
    "(define (integral f a b dx)\n",
    "  (define (add-dx x)\n",
    "    (+ x dx))\n",
    "  (* (sum f (+ a (/ dx 2.0)) add-dx b)\n",
    "     dx))\n",
    "\n",
    "(integral cube 0 1 0.01) ; 0到1之间立方函数的积分为1/4"
   ]
  },
  {
   "cell_type": "markdown",
   "metadata": {
    "collapsed": true
   },
   "source": [
    "###1.3.2 用 Lambda 构建过程\n",
    "\n",
    "`lambda` 是特殊形式。用于构建只会使用一次的过程，省去绑定过程名称的麻烦。上一节中的`pi-sum`可以利用`lambda`省去`pi-term`和`pi-next`这些过程："
   ]
  },
  {
   "cell_type": "code",
   "execution_count": 1,
   "metadata": {
    "collapsed": true
   },
   "outputs": [],
   "source": [
    "(define (pi-sum a b)\n",
    "  (sum (lambda (x) (/ 1.0 (* x (+ x 2))))\n",
    "       a\n",
    "       (lambda (x) (+ x 4))\n",
    "       b))"
   ]
  },
  {
   "cell_type": "markdown",
   "metadata": {},
   "source": [
    "`lambda`定义方式与`define`一样，只是不需要给过程指定名称。下面两个过程是一样的："
   ]
  },
  {
   "cell_type": "code",
   "execution_count": 2,
   "metadata": {
    "collapsed": true
   },
   "outputs": [],
   "source": [
    "(define (plus4 x) (+ x 4))\n",
    "\n",
    "(define plus4 (lambda (x) (+ x 4)))"
   ]
  },
  {
   "cell_type": "markdown",
   "metadata": {},
   "source": [
    "**用 let 定义局部变量**\n",
    "\n",
    "`lambda`的另一用途可以定义局部变量，例如计算下面的方程：\n",
    "\n",
    "$$f(x,y) = x(1 + xy)^2 + y(1 - y) + (1 + xy)(1 - y)$$\n",
    "\n",
    "也可以表示为：\n",
    "\n",
    "$$\\begin{align}a = & \\ 1 + xy \\\\b = & \\ 1 - y \\\\f(x,y) = & \\ xa^2 + yb + ab\\end{align}$$"
   ]
  },
  {
   "cell_type": "code",
   "execution_count": 7,
   "metadata": {
    "collapsed": false
   },
   "outputs": [
    {
     "data": {
      "text/plain": [
       "4"
      ]
     },
     "execution_count": 7,
     "metadata": {},
     "output_type": "execute_result"
    }
   ],
   "source": [
    "(define (square x) (* x x))\n",
    "(define (f x y)\n",
    "  (define (f-helper a b)\n",
    "    (+ (* x (square a)) (* y b) (* a b)))\n",
    "  (f-helper (+ 1 (* x y)) (- 1 y)))\n",
    "\n",
    ";; 通过lambda简化\n",
    "(define (f x y)\n",
    "  ((lambda (a b)\n",
    "    (+ (* x (square a)) (* y b) (* a b)))\n",
    "   (+ 1 (* x y))\n",
    "   (- 1 y)))"
   ]
  },
  {
   "cell_type": "markdown",
   "metadata": {},
   "source": [
    "`let`使这一过程更加简单："
   ]
  },
  {
   "cell_type": "code",
   "execution_count": 8,
   "metadata": {
    "collapsed": false
   },
   "outputs": [],
   "source": [
    "(define (f x y)\n",
    "  (let ((a (+ 1 (* x y)))\n",
    "        (b (- 1 y)))\n",
    "    (+ (* x (square a)) (* y b) (* a b))))"
   ]
  },
  {
   "cell_type": "markdown",
   "metadata": {},
   "source": [
    "`let`语法（糖）如下：\n",
    "\n",
    "```scheme\n",
    "(let ((<var1> <exp1>)\n",
    "      (<var2> <exp2>)\n",
    "      ...)\n",
    "  <body>)\n",
    "```\n",
    "\n",
    "等价于：\n",
    "\n",
    "```scheme\n",
    "((lambda (<var1>...<varn>) (<body>)\n",
    "  <exp1>\n",
    "  ...\n",
    "  <expn>)\n",
    "```\n",
    "\n",
    "* `let`的作用范围仅限于`<body>`；\n",
    "\n",
    "```scheme\n",
    "(+ (let ((x 3))\n",
    "      (+ x (* x 10)))\n",
    "  x)\n",
    "  \n",
    ";; 若 x = 5，结果为38\n",
    "```\n",
    "\n",
    "* 变量赋值不属于`let`范围。\n",
    "\n",
    "```scheme\n",
    "(let ((x 3)\n",
    "      (y (+ x 2)))\n",
    "  (* x y))\n",
    "\n",
    ";; 若 x = 2，结果为12\n",
    "```\n",
    "\n",
    "我们也可以用内部`define`完成相同的事，只是`define`更常用于定义过程，`let`通常用于定义局部变量。"
   ]
  },
  {
   "cell_type": "code",
   "execution_count": null,
   "metadata": {
    "collapsed": true
   },
   "outputs": [],
   "source": []
  }
 ],
 "metadata": {
  "kernelspec": {
   "display_name": "Calysto Scheme 3",
   "language": "scheme",
   "name": "calysto_scheme"
  },
  "language_info": {
   "codemirror_mode": {
    "name": "scheme"
   },
   "mimetype": "text/x-scheme",
   "name": "scheme",
   "pygments_lexer": "scheme"
  }
 },
 "nbformat": 4,
 "nbformat_minor": 0
}
